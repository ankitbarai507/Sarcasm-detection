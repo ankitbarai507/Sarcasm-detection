{
  "nbformat": 4,
  "nbformat_minor": 0,
  "metadata": {
    "accelerator": "GPU",
    "colab": {
      "name": "Sarcasm_Detection (2).ipynb",
      "provenance": [],
      "collapsed_sections": [],
      "toc_visible": true
    },
    "kernelspec": {
      "display_name": "Python 3",
      "language": "python",
      "name": "python3"
    },
    "language_info": {
      "codemirror_mode": {
        "name": "ipython",
        "version": 3
      },
      "file_extension": ".py",
      "mimetype": "text/x-python",
      "name": "python",
      "nbconvert_exporter": "python",
      "pygments_lexer": "ipython3",
      "version": "3.7.5"
    }
  },
  "cells": [
    {
      "cell_type": "markdown",
      "metadata": {
        "colab_type": "text",
        "id": "3cVoabCsl_yd"
      },
      "source": [
        "####**Linking Kaggle and Getting Embeddings**"
      ]
    },
    {
      "cell_type": "code",
      "metadata": {
        "colab_type": "code",
        "id": "AFlZ2Z_-4aco",
        "colab": {}
      },
      "source": [
        "from google.colab import files\n",
        "files.upload()"
      ],
      "execution_count": null,
      "outputs": []
    },
    {
      "cell_type": "code",
      "metadata": {
        "colab_type": "code",
        "id": "An61BxyyIfFe",
        "colab": {
          "base_uri": "https://localhost:8080/",
          "height": 121
        },
        "outputId": "7b8054f8-8cb2-4dec-9ec0-bf2eb1a93e70"
      },
      "source": [
        "from google.colab import drive\n",
        "drive.mount('/content/gdrive')"
      ],
      "execution_count": null,
      "outputs": [
        {
          "output_type": "stream",
          "text": [
            "Go to this URL in a browser: https://accounts.google.com/o/oauth2/auth?client_id=947318989803-6bn6qk8qdgf4n4g3pfee6491hc0brc4i.apps.googleusercontent.com&redirect_uri=urn%3aietf%3awg%3aoauth%3a2.0%3aoob&response_type=code&scope=email%20https%3a%2f%2fwww.googleapis.com%2fauth%2fdocs.test%20https%3a%2f%2fwww.googleapis.com%2fauth%2fdrive%20https%3a%2f%2fwww.googleapis.com%2fauth%2fdrive.photos.readonly%20https%3a%2f%2fwww.googleapis.com%2fauth%2fpeopleapi.readonly\n",
            "\n",
            "Enter your authorization code:\n",
            "··········\n",
            "Mounted at /content/gdrive\n"
          ],
          "name": "stdout"
        }
      ]
    },
    {
      "cell_type": "code",
      "metadata": {
        "colab_type": "code",
        "id": "H_mhg-mLlkQ8",
        "colab": {}
      },
      "source": [
        "!pip install -q kaggle"
      ],
      "execution_count": null,
      "outputs": []
    },
    {
      "cell_type": "code",
      "metadata": {
        "colab_type": "code",
        "id": "7mEi-Z2Hl0Cb",
        "colab": {}
      },
      "source": [
        "!mkdir -p ~/.kaggle\n",
        "!cp kaggle.json ~/.kaggle/"
      ],
      "execution_count": null,
      "outputs": []
    },
    {
      "cell_type": "code",
      "metadata": {
        "colab_type": "code",
        "id": "PrkaV-x9rB_E",
        "colab": {}
      },
      "source": [
        "!chmod 600 /root/.kaggle/kaggle.json"
      ],
      "execution_count": null,
      "outputs": []
    },
    {
      "cell_type": "code",
      "metadata": {
        "colab_type": "code",
        "id": "IlZhHupjWgDI",
        "colab": {
          "base_uri": "https://localhost:8080/",
          "height": 202
        },
        "outputId": "47e79839-b798-43f4-a6ff-08e180438ff5"
      },
      "source": [
        "!wget https://dl.fbaipublicfiles.com/fasttext/vectors-english/crawl-300d-2M.vec.zip"
      ],
      "execution_count": null,
      "outputs": [
        {
          "output_type": "stream",
          "text": [
            "--2020-06-08 11:53:42--  https://dl.fbaipublicfiles.com/fasttext/vectors-english/crawl-300d-2M.vec.zip\n",
            "Resolving dl.fbaipublicfiles.com (dl.fbaipublicfiles.com)... 104.22.74.142, 172.67.9.4, 104.22.75.142, ...\n",
            "Connecting to dl.fbaipublicfiles.com (dl.fbaipublicfiles.com)|104.22.74.142|:443... connected.\n",
            "HTTP request sent, awaiting response... 200 OK\n",
            "Length: 1523785255 (1.4G) [application/zip]\n",
            "Saving to: ‘crawl-300d-2M.vec.zip’\n",
            "\n",
            "crawl-300d-2M.vec.z 100%[===================>]   1.42G  14.1MB/s    in 1m 44s  \n",
            "\n",
            "2020-06-08 11:55:28 (13.9 MB/s) - ‘crawl-300d-2M.vec.zip’ saved [1523785255/1523785255]\n",
            "\n"
          ],
          "name": "stdout"
        }
      ]
    },
    {
      "cell_type": "code",
      "metadata": {
        "colab_type": "code",
        "id": "wkQRvnuRXZFP",
        "colab": {
          "base_uri": "https://localhost:8080/",
          "height": 50
        },
        "outputId": "722ea010-2dd5-414b-e620-05ddacabe5b2"
      },
      "source": [
        "!unzip crawl-300d-2M.vec.zip"
      ],
      "execution_count": null,
      "outputs": [
        {
          "output_type": "stream",
          "text": [
            "Archive:  crawl-300d-2M.vec.zip\n",
            "  inflating: crawl-300d-2M.vec       \n"
          ],
          "name": "stdout"
        }
      ]
    },
    {
      "cell_type": "markdown",
      "metadata": {
        "colab_type": "text",
        "id": "YWO_OZov4T0b"
      },
      "source": [
        "####**Imports**"
      ]
    },
    {
      "cell_type": "code",
      "metadata": {
        "colab_type": "code",
        "id": "_523an9k2sKw",
        "colab": {
          "base_uri": "https://localhost:8080/",
          "height": 34
        },
        "outputId": "4edd1c47-ce59-415b-a3ff-0d638ac6c2ca"
      },
      "source": [
        "%tensorflow_version 1.x\n",
        "import pandas as pd\n",
        "import numpy as np\n",
        "import tensorflow as tf\n",
        "import matplotlib.pyplot as plt\n",
        "from tensorflow.keras.preprocessing.text import Tokenizer\n",
        "from tensorflow.keras.preprocessing.sequence import pad_sequences\n",
        "from tensorflow.keras.callbacks import Callback\n",
        "from tensorflow.keras import backend as K\n",
        "from tensorflow.keras.callbacks import ModelCheckpoint"
      ],
      "execution_count": null,
      "outputs": [
        {
          "output_type": "stream",
          "text": [
            "TensorFlow 1.x selected.\n"
          ],
          "name": "stdout"
        }
      ]
    },
    {
      "cell_type": "markdown",
      "metadata": {
        "colab_type": "text",
        "id": "UhClbrtBHBA3"
      },
      "source": [
        "####**F1 score function**"
      ]
    },
    {
      "cell_type": "code",
      "metadata": {
        "colab_type": "code",
        "id": "v9YzHdwwDReE",
        "colab": {}
      },
      "source": [
        "def recall_m(y_true, y_pred):\n",
        "    true_positives = K.sum(K.round(K.clip(y_true * y_pred, 0, 1)))\n",
        "    possible_positives = K.sum(K.round(K.clip(y_true, 0, 1)))\n",
        "    recall = true_positives / (possible_positives + K.epsilon())\n",
        "    return recall\n",
        "\n",
        "def precision_m(y_true, y_pred):\n",
        "    true_positives = K.sum(K.round(K.clip(y_true * y_pred, 0, 1)))\n",
        "    predicted_positives = K.sum(K.round(K.clip(y_pred, 0, 1)))\n",
        "    precision = true_positives / (predicted_positives + K.epsilon())\n",
        "    return precision\n",
        "\n",
        "def f1_m(y_true, y_pred):\n",
        "    precision = precision_m(y_true, y_pred)\n",
        "    recall = recall_m(y_true, y_pred)\n",
        "    return 2 * ((precision * recall) / (precision + recall + K.epsilon()))"
      ],
      "execution_count": null,
      "outputs": []
    },
    {
      "cell_type": "markdown",
      "metadata": {
        "colab_type": "text",
        "id": "CskDFpDplw3m"
      },
      "source": [
        "###**Sentiment Model**"
      ]
    },
    {
      "cell_type": "markdown",
      "metadata": {
        "colab_type": "text",
        "id": "d1lVjdRal2eb"
      },
      "source": [
        "####**Getting Data**"
      ]
    },
    {
      "cell_type": "code",
      "metadata": {
        "colab_type": "code",
        "id": "MyXp4VAEl1L1",
        "colab": {
          "base_uri": "https://localhost:8080/",
          "height": 67
        },
        "outputId": "66f430bc-fee5-4809-ed78-9e33a4028a9a"
      },
      "source": [
        "!kaggle datasets download -d kazanova/sentiment140"
      ],
      "execution_count": null,
      "outputs": [
        {
          "output_type": "stream",
          "text": [
            "Downloading sentiment140.zip to /content\n",
            " 85% 69.0M/80.9M [00:00<00:00, 66.7MB/s]\n",
            "100% 80.9M/80.9M [00:00<00:00, 111MB/s] \n"
          ],
          "name": "stdout"
        }
      ]
    },
    {
      "cell_type": "code",
      "metadata": {
        "colab_type": "code",
        "id": "U4c0WpCxyDxD",
        "colab": {
          "base_uri": "https://localhost:8080/",
          "height": 50
        },
        "outputId": "37fe0c7c-13c0-4c41-e376-eee73729eb79"
      },
      "source": [
        "!unzip sentiment140.zip"
      ],
      "execution_count": null,
      "outputs": [
        {
          "output_type": "stream",
          "text": [
            "Archive:  sentiment140.zip\n",
            "  inflating: training.1600000.processed.noemoticon.csv  \n"
          ],
          "name": "stdout"
        }
      ]
    },
    {
      "cell_type": "markdown",
      "metadata": {
        "colab_type": "text",
        "id": "hM37LjRlxQrD"
      },
      "source": [
        "####**Preprocessing Data and Preparing Embedding Weights**"
      ]
    },
    {
      "cell_type": "code",
      "metadata": {
        "colab_type": "code",
        "id": "sTl9Lz_nxcPT",
        "colab": {}
      },
      "source": [
        "df = pd.read_csv('training.1600000.processed.noemoticon.csv', encoding='latin-1')\n",
        "df.columns = ['target', 'id','date', 'flag', 'user', 'text']\n",
        "df['target'] = df['target'].map({4:1, 0:0})\n",
        "df = df.drop(['date', 'id', 'flag', 'user'], axis=1)\n",
        "# print(df.head())\n",
        "# print(df['target'].value_counts())"
      ],
      "execution_count": null,
      "outputs": []
    },
    {
      "cell_type": "code",
      "metadata": {
        "colab_type": "code",
        "id": "3QVXb1kV1-NI",
        "colab": {
          "base_uri": "https://localhost:8080/",
          "height": 314
        },
        "outputId": "2b1bdcd5-705f-402c-eef4-9dc365362b8a"
      },
      "source": [
        "temp1 = df['text'].apply(lambda x : len(x.split()))\n",
        "print(\"Maximum length of a sentence:\",max(temp1))\n",
        "plt.hist(temp1, bins=max(temp1))\n",
        "plt.title(\"Distribution of lengths of all the sentences\")"
      ],
      "execution_count": null,
      "outputs": [
        {
          "output_type": "stream",
          "text": [
            "Maximum length of a sentence: 64\n"
          ],
          "name": "stdout"
        },
        {
          "output_type": "execute_result",
          "data": {
            "text/plain": [
              "Text(0.5, 1.0, 'Distribution of lengths of all the sentences')"
            ]
          },
          "metadata": {
            "tags": []
          },
          "execution_count": 13
        },
        {
          "output_type": "display_data",
          "data": {
            "image/png": "[encoded data removed]",
            "text/plain": [
              "<Figure size 432x288 with 1 Axes>"
            ]
          },
          "metadata": {
            "tags": [],
            "needs_background": "light"
          }
        }
      ]
    },
    {
      "cell_type": "code",
      "metadata": {
        "colab_type": "code",
        "id": "eQEiVadSLQtU",
        "colab": {
          "base_uri": "https://localhost:8080/",
          "height": 298
        },
        "outputId": "377667b9-b532-4798-fa2d-18338fe35461"
      },
      "source": [
        "df['target'].value_counts().plot(kind='barh')\n",
        "plt.title(\"Class Distribution\")"
      ],
      "execution_count": null,
      "outputs": [
        {
          "output_type": "execute_result",
          "data": {
            "text/plain": [
              "Text(0.5, 1.0, 'Class Distribution')"
            ]
          },
          "metadata": {
            "tags": []
          },
          "execution_count": 14
        },
        {
          "output_type": "display_data",
          "data": {
            "image/png": "[encoded data removed]",
            "text/plain": [
              "<Figure size 432x288 with 1 Axes>"
            ]
          },
          "metadata": {
            "tags": [],
            "needs_background": "light"
          }
        }
      ]
    },
    {
      "cell_type": "code",
      "metadata": {
        "colab_type": "code",
        "id": "LuHU8ual2XqX",
        "colab": {}
      },
      "source": [
        "X = np.array(df['text'])\n",
        "y = np.array(df['target'])\n",
        "\n",
        "y = y.reshape((y.shape[0],1))\n",
        "X = X.squeeze()\n",
        "\n",
        "m = X.shape[0]\n",
        "perm = np.random.permutation(m)\n",
        "X = X[perm]\n",
        "y = y[perm,:]\n",
        "\n",
        "X = X[:60000]\n",
        "y = y[:60000,:]\n",
        "\n",
        "X_test = X[:10000]\n",
        "y_test = y[:10000,:]\n",
        "\n",
        "X_val = X[10000:20000]\n",
        "y_val = y[10000:20000,:]\n",
        "\n",
        "X_train = X[20000:]\n",
        "y_train = y[20000:,:]"
      ],
      "execution_count": null,
      "outputs": []
    },
    {
      "cell_type": "code",
      "metadata": {
        "colab_type": "code",
        "id": "od3LIj482qyS",
        "colab": {
          "base_uri": "https://localhost:8080/",
          "height": 34
        },
        "outputId": "300182f0-2c5c-495a-f333-70d54538961e"
      },
      "source": [
        "max_len = min(max(len(x.split()) for x in X_train), 20)\n",
        "embedding_size = 300\n",
        "embedding_file = 'crawl-300d-2M.vec'\n",
        "print(\"max length:\",max_len)"
      ],
      "execution_count": null,
      "outputs": [
        {
          "output_type": "stream",
          "text": [
            "max length: 20\n"
          ],
          "name": "stdout"
        }
      ]
    },
    {
      "cell_type": "code",
      "metadata": {
        "colab_type": "code",
        "id": "X7kQ4oyl2wkr",
        "colab": {
          "base_uri": "https://localhost:8080/",
          "height": 67
        },
        "outputId": "2665963c-80d0-4604-9e92-8369365a0060"
      },
      "source": [
        "tokenizer = Tokenizer()\n",
        "tokenizer.fit_on_texts(list(X))\n",
        "\n",
        "X = tokenizer.texts_to_sequences(list(X_train))\n",
        "X_train = np.array(pad_sequences(X, max_len))\n",
        "\n",
        "X = tokenizer.texts_to_sequences(list(X_val))\n",
        "X_val = np.array(pad_sequences(X, max_len))\n",
        "\n",
        "X = tokenizer.texts_to_sequences(list(X_test))\n",
        "X_test = np.array(pad_sequences(X, max_len))\n",
        "\n",
        "print(y_train.shape, X_train.shape)\n",
        "print(y_val.shape, X_val.shape)\n",
        "print(y_test.shape, X_test.shape)"
      ],
      "execution_count": null,
      "outputs": [
        {
          "output_type": "stream",
          "text": [
            "(40000, 1) (40000, 20)\n",
            "(10000, 1) (10000, 20)\n",
            "(10000, 1) (10000, 20)\n"
          ],
          "name": "stdout"
        }
      ]
    },
    {
      "cell_type": "code",
      "metadata": {
        "colab_type": "code",
        "id": "FN3uUWxJUXlB",
        "colab": {
          "base_uri": "https://localhost:8080/",
          "height": 34
        },
        "outputId": "d1da8a4d-66cd-4b02-b5d7-ccd32b3304f9"
      },
      "source": [
        "word_index = tokenizer.word_index\n",
        "vocab_size = len(word_index) + 1\n",
        "print(\"vocab:\", vocab_size)"
      ],
      "execution_count": null,
      "outputs": [
        {
          "output_type": "stream",
          "text": [
            "vocab: 68672\n"
          ],
          "name": "stdout"
        }
      ]
    },
    {
      "cell_type": "code",
      "metadata": {
        "colab_type": "code",
        "id": "foWgD-Ix21xl",
        "colab": {}
      },
      "source": [
        "def get_indices(word, *arr):\n",
        "    return word,np.asarray(arr, dtype=np.float32)\n",
        "\n",
        "word_to_vec = dict(get_indices(*i.rstrip().rsplit()) for i in open(embedding_file))\n",
        "\n",
        "embedding_matrix_S = np.zeros((vocab_size, embedding_size))\n",
        "\n",
        "for word,i in word_index.items():\n",
        "    if i >= vocab_size:\n",
        "        continue\n",
        "    embedding_vector = word_to_vec.get(word)\n",
        "    if embedding_vector is not None:\n",
        "        embedding_matrix_S[i] = embedding_vector"
      ],
      "execution_count": null,
      "outputs": []
    },
    {
      "cell_type": "markdown",
      "metadata": {
        "colab_type": "text",
        "id": "3B4hJ7u6nCQH"
      },
      "source": [
        "####**Model**"
      ]
    },
    {
      "cell_type": "code",
      "metadata": {
        "colab_type": "code",
        "id": "kJSBm9fGnN9D",
        "colab": {}
      },
      "source": [
        "def sentiment():\n",
        "    vocab_size=68672\n",
        "    model = tf.keras.Sequential()\n",
        "\n",
        "    model.add(tf.keras.layers.Embedding(vocab_size, \n",
        "                                        embedding_size, \n",
        "                                        input_length=max_len, \n",
        "                                        weights=[embedding_matrix_S], \n",
        "                                        trainable=True,\n",
        "                                        name='Embedding_S'))\n",
        "    \n",
        "    model.add(tf.keras.layers.Conv1D(filters=50,\n",
        "                                     kernel_size=5,\n",
        "                                     activation='relu',\n",
        "                                     name='conv1_S'))\n",
        "    model.add(tf.keras.layers.MaxPooling1D(2, name='max_pool1_S'))\n",
        "\n",
        "    model.add(tf.keras.layers.Conv1D(filters=100,\n",
        "                                     kernel_size=3,\n",
        "                                     activation='relu',\n",
        "                                     name='conv2_S'))\n",
        "    model.add(tf.keras.layers.MaxPooling1D(2, name='max_pool2_S'))\n",
        "    model.add(tf.keras.layers.Flatten(name='flatten1_S'))\n",
        "\n",
        "    model.add(tf.keras.layers.Dense(100, activation='relu', name='dense1_S'))\n",
        "    model.add(tf.keras.layers.Dropout(0.75, name='dropout1_S'))\n",
        "    model.add(tf.keras.layers.Dense(1, activation='sigmoid', name='output_S'))\n",
        "\n",
        "    return model"
      ],
      "execution_count": null,
      "outputs": []
    },
    {
      "cell_type": "code",
      "metadata": {
        "colab_type": "code",
        "id": "A3BO9zs0ncvj",
        "colab": {
          "base_uri": "https://localhost:8080/",
          "height": 894
        },
        "outputId": "c0605951-ebc8-4928-dbdb-ae2d777fb22e"
      },
      "source": [
        "batch_size = 32\n",
        "epochs = 10\n",
        "learning_rate = 1e-5\n",
        "\n",
        "model = sentiment()\n",
        "checkpointer = ModelCheckpoint(filepath = \"/content/gdrive/My Drive/sentiment.hdf5\", \n",
        "                               monitor='val_loss', \n",
        "                               verbose=1, \n",
        "                               save_best_only=True,\n",
        "                               mode='min')\n",
        "\n",
        "model.compile(loss='binary_crossentropy',\n",
        "              optimizer=tf.keras.optimizers.Adam(learning_rate=learning_rate),\n",
        "              metrics=['accuracy', f1_m])\n",
        "\n",
        "history = model.fit(X_train,\n",
        "                    y_train,\n",
        "                    batch_size=batch_size,\n",
        "                    epochs=epochs,\n",
        "                    callbacks=[checkpointer],\n",
        "                    validation_data=(X_val,y_val))"
      ],
      "execution_count": null,
      "outputs": [
        {
          "output_type": "stream",
          "text": [
            "WARNING:tensorflow:From /tensorflow-1.15.2/python3.6/tensorflow_core/python/keras/initializers.py:119: calling RandomUniform.__init__ (from tensorflow.python.ops.init_ops) with dtype is deprecated and will be removed in a future version.\n",
            "Instructions for updating:\n",
            "Call initializer instance with the dtype argument instead of passing it to the constructor\n",
            "WARNING:tensorflow:From /tensorflow-1.15.2/python3.6/tensorflow_core/python/ops/resource_variable_ops.py:1630: calling BaseResourceVariable.__init__ (from tensorflow.python.ops.resource_variable_ops) with constraint is deprecated and will be removed in a future version.\n",
            "Instructions for updating:\n",
            "If using Keras pass *_constraint arguments to layers.\n",
            "WARNING:tensorflow:Large dropout rate: 0.75 (>0.5). In TensorFlow 2.x, dropout() uses dropout rate instead of keep_prob. Please ensure that this is intended.\n",
            "WARNING:tensorflow:From /tensorflow-1.15.2/python3.6/tensorflow_core/python/ops/nn_impl.py:183: where (from tensorflow.python.ops.array_ops) is deprecated and will be removed in a future version.\n",
            "Instructions for updating:\n",
            "Use tf.where in 2.0, which has the same broadcast rule as np.where\n",
            "Train on 40000 samples, validate on 10000 samples\n",
            "Epoch 1/10\n",
            "39936/40000 [============================>.] - ETA: 0s - loss: 0.6997 - acc: 0.5044 - f1_m: 0.4518\n",
            "Epoch 00001: val_loss improved from inf to 0.68880, saving model to /content/gdrive/My Drive/sentiment.hdf5\n",
            "40000/40000 [==============================] - 36s 896us/sample - loss: 0.6997 - acc: 0.5044 - f1_m: 0.4519 - val_loss: 0.6888 - val_acc: 0.5581 - val_f1_m: 0.4696\n",
            "Epoch 2/10\n",
            "39936/40000 [============================>.] - ETA: 0s - loss: 0.6892 - acc: 0.5403 - f1_m: 0.5138\n",
            "Epoch 00002: val_loss improved from 0.68880 to 0.68194, saving model to /content/gdrive/My Drive/sentiment.hdf5\n",
            "40000/40000 [==============================] - 31s 765us/sample - loss: 0.6892 - acc: 0.5404 - f1_m: 0.5137 - val_loss: 0.6819 - val_acc: 0.5963 - val_f1_m: 0.5054\n",
            "Epoch 3/10\n",
            "39968/40000 [============================>.] - ETA: 0s - loss: 0.6782 - acc: 0.5794 - f1_m: 0.5456\n",
            "Epoch 00003: val_loss improved from 0.68194 to 0.66695, saving model to /content/gdrive/My Drive/sentiment.hdf5\n",
            "40000/40000 [==============================] - 30s 756us/sample - loss: 0.6781 - acc: 0.5795 - f1_m: 0.5457 - val_loss: 0.6670 - val_acc: 0.6545 - val_f1_m: 0.6338\n",
            "Epoch 4/10\n",
            "39968/40000 [============================>.] - ETA: 0s - loss: 0.6571 - acc: 0.6336 - f1_m: 0.6192\n",
            "Epoch 00004: val_loss improved from 0.66695 to 0.63812, saving model to /content/gdrive/My Drive/sentiment.hdf5\n",
            "40000/40000 [==============================] - 30s 758us/sample - loss: 0.6571 - acc: 0.6338 - f1_m: 0.6194 - val_loss: 0.6381 - val_acc: 0.6845 - val_f1_m: 0.6566\n",
            "Epoch 5/10\n",
            "39904/40000 [============================>.] - ETA: 0s - loss: 0.6265 - acc: 0.6743 - f1_m: 0.6651\n",
            "Epoch 00005: val_loss improved from 0.63812 to 0.60349, saving model to /content/gdrive/My Drive/sentiment.hdf5\n",
            "40000/40000 [==============================] - 31s 776us/sample - loss: 0.6265 - acc: 0.6744 - f1_m: 0.6650 - val_loss: 0.6035 - val_acc: 0.7107 - val_f1_m: 0.6997\n",
            "Epoch 6/10\n",
            "39968/40000 [============================>.] - ETA: 0s - loss: 0.5969 - acc: 0.7046 - f1_m: 0.6984\n",
            "Epoch 00006: val_loss improved from 0.60349 to 0.57567, saving model to /content/gdrive/My Drive/sentiment.hdf5\n",
            "40000/40000 [==============================] - 30s 761us/sample - loss: 0.5968 - acc: 0.7047 - f1_m: 0.6985 - val_loss: 0.5757 - val_acc: 0.7234 - val_f1_m: 0.7169\n",
            "Epoch 7/10\n",
            "39968/40000 [============================>.] - ETA: 0s - loss: 0.5715 - acc: 0.7213 - f1_m: 0.7140\n",
            "Epoch 00007: val_loss improved from 0.57567 to 0.55546, saving model to /content/gdrive/My Drive/sentiment.hdf5\n",
            "40000/40000 [==============================] - 30s 760us/sample - loss: 0.5715 - acc: 0.7213 - f1_m: 0.7140 - val_loss: 0.5555 - val_acc: 0.7343 - val_f1_m: 0.7298\n",
            "Epoch 8/10\n",
            "39968/40000 [============================>.] - ETA: 0s - loss: 0.5522 - acc: 0.7383 - f1_m: 0.7325\n",
            "Epoch 00008: val_loss improved from 0.55546 to 0.54048, saving model to /content/gdrive/My Drive/sentiment.hdf5\n",
            "40000/40000 [==============================] - 31s 765us/sample - loss: 0.5522 - acc: 0.7383 - f1_m: 0.7324 - val_loss: 0.5405 - val_acc: 0.7455 - val_f1_m: 0.7336\n",
            "Epoch 9/10\n",
            "39904/40000 [============================>.] - ETA: 0s - loss: 0.5370 - acc: 0.7494 - f1_m: 0.7427\n",
            "Epoch 00009: val_loss improved from 0.54048 to 0.52893, saving model to /content/gdrive/My Drive/sentiment.hdf5\n",
            "40000/40000 [==============================] - 30s 751us/sample - loss: 0.5368 - acc: 0.7495 - f1_m: 0.7427 - val_loss: 0.5289 - val_acc: 0.7519 - val_f1_m: 0.7428\n",
            "Epoch 10/10\n",
            "39904/40000 [============================>.] - ETA: 0s - loss: 0.5218 - acc: 0.7581 - f1_m: 0.7500\n",
            "Epoch 00010: val_loss improved from 0.52893 to 0.51941, saving model to /content/gdrive/My Drive/sentiment.hdf5\n",
            "40000/40000 [==============================] - 30s 750us/sample - loss: 0.5217 - acc: 0.7581 - f1_m: 0.7500 - val_loss: 0.5194 - val_acc: 0.7565 - val_f1_m: 0.7483\n"
          ],
          "name": "stdout"
        }
      ]
    },
    {
      "cell_type": "code",
      "metadata": {
        "colab_type": "code",
        "id": "LgBFmHmbnt1j",
        "colab": {
          "base_uri": "https://localhost:8080/",
          "height": 545
        },
        "outputId": "b9b29ed2-c706-4b40-aeca-8428d704c17f"
      },
      "source": [
        "loss = history.history['loss']\n",
        "val_loss = history.history['val_loss']\n",
        "acc = history.history['acc']\n",
        "val_acc = history.history['val_acc']\n",
        "epoch = history.epoch\n",
        "\n",
        "plt.plot(epoch,loss, label='loss')\n",
        "plt.plot(epoch, val_loss, label='val loss')\n",
        "plt.legend()\n",
        "plt.title('epochs vs loss')\n",
        "plt.show()\n",
        "\n",
        "plt.plot(epoch,acc, label='accuracy')\n",
        "plt.plot(epoch, val_acc, label='val accuracy')\n",
        "plt.legend()\n",
        "plt.title('epochs vs accuracy')\n",
        "plt.show()  "
      ],
      "execution_count": null,
      "outputs": [
        {
          "output_type": "display_data",
          "data": {
            "image/png": "[encoded data removed]",
            "text/plain": [
              "<Figure size 432x288 with 1 Axes>"
            ]
          },
          "metadata": {
            "tags": [],
            "needs_background": "light"
          }
        },
        {
          "output_type": "display_data",
          "data": {
            "image/png": "[encoded data removed]",
            "text/plain": [
              "<Figure size 432x288 with 1 Axes>"
            ]
          },
          "metadata": {
            "tags": [],
            "needs_background": "light"
          }
        }
      ]
    },
    {
      "cell_type": "markdown",
      "metadata": {
        "colab_type": "text",
        "id": "Wm5J_Yzjnt1s"
      },
      "source": [
        "**Test Set Performance**"
      ]
    },
    {
      "cell_type": "code",
      "metadata": {
        "colab_type": "code",
        "id": "VKmmSnhant1s",
        "colab": {
          "base_uri": "https://localhost:8080/",
          "height": 34
        },
        "outputId": "f2de3b9f-4e87-42e3-f676-2bdb7c4798ef"
      },
      "source": [
        "model.load_weights('/content/gdrive/My Drive/sentiment.hdf5')\n",
        "results = model.evaluate(X_test,\n",
        "                         y_test,\n",
        "                         batch_size=batch_size\n",
        "                         )"
      ],
      "execution_count": null,
      "outputs": [
        {
          "output_type": "stream",
          "text": [
            "10000/10000 [==============================] - 1s 88us/sample - loss: 0.5295 - acc: 0.7421 - f1_m: 0.7302\n"
          ],
          "name": "stdout"
        }
      ]
    },
    {
      "cell_type": "code",
      "metadata": {
        "colab_type": "code",
        "id": "iDm2KMpAnt1w",
        "colab": {
          "base_uri": "https://localhost:8080/",
          "height": 67
        },
        "outputId": "f45c6a81-8cc2-4b62-e51f-4878e10cca58"
      },
      "source": [
        "print(\"Loss on test set:\", results[0])\n",
        "print(\"Accuracy on test set:\", results[1])\n",
        "print (\"F1 score on test set:\", results[2])"
      ],
      "execution_count": null,
      "outputs": [
        {
          "output_type": "stream",
          "text": [
            "Loss on test set: 0.5294501414299011\n",
            "Accuracy on test set: 0.7421\n",
            "F1 score on test set: 0.73015195\n"
          ],
          "name": "stdout"
        }
      ]
    },
    {
      "cell_type": "code",
      "metadata": {
        "id": "7RieGits00HX",
        "colab_type": "code",
        "colab": {}
      },
      "source": [
        "def plot_roc(fpr,tpr,label= 'ROC curve'):\n",
        "    plt.plot(fpr, tpr, label = 'ROC curve', linewidth = 2)\n",
        "    plt.plot([0,1],[0,1], 'k--', linewidth = 2)\n",
        "   # plt.xlim([0.0,0.001])\n",
        "   # plt.ylim([0.0,1.05])\n",
        "    plt.xlabel('False Positive Rate')\n",
        "    plt.ylabel('True Positive Rate')\n",
        "    plt.title('ROC Curve')\n",
        "    plt.show();\n",
        "def plot_confusion_matrix(cm, classes,\n",
        "                          normalize = False,\n",
        "                          title = 'Confusion matrix\"',\n",
        "                          cmap = plt.cm.Blues) :\n",
        "    plt.imshow(cm, interpolation = 'nearest', cmap = cmap)\n",
        "    plt.title(title)\n",
        "    plt.colorbar()\n",
        "    tick_marks = np.arange(len(classes))\n",
        "    plt.xticks(tick_marks, classes, rotation = 0)\n",
        "    plt.yticks(tick_marks, classes)\n",
        "\n",
        "    thresh = cm.max() / 2.\n",
        "    for i, j in itertools.product(range(cm.shape[0]), range(cm.shape[1])) :\n",
        "        plt.text(j, i, cm[i, j],\n",
        "                 horizontalalignment = 'center',\n",
        "                 color = 'white' if cm[i, j] > thresh else 'black')\n",
        "\n",
        "    plt.tight_layout()\n",
        "    plt.ylabel('True label')\n",
        "    plt.xlabel('Predicted label')"
      ],
      "execution_count": null,
      "outputs": []
    },
    {
      "cell_type": "code",
      "metadata": {
        "id": "owCX-TWO0AjQ",
        "colab_type": "code",
        "colab": {}
      },
      "source": [
        "import sklearn\n",
        "import sklearn.metrics\n",
        "y_score = model.predict(X_test, batch_size=1024)\n",
        "y_preds = model.predict(X_test, batch_size=1024).round().astype(int)"
      ],
      "execution_count": null,
      "outputs": []
    },
    {
      "cell_type": "code",
      "metadata": {
        "id": "6JAzTfso0WVA",
        "colab_type": "code",
        "colab": {
          "base_uri": "https://localhost:8080/",
          "height": 311
        },
        "outputId": "d704892a-d6d5-4f5b-bcaf-00ed9366c6e5"
      },
      "source": [
        "import matplotlib.pyplot as plt   \n",
        "import itertools\n",
        "cm=sklearn.metrics.confusion_matrix(y_test, y_preds)\n",
        "plot_confusion_matrix(cm,classes=['Non sarcastic','sarcastic'],title='Confusion Matrix')"
      ],
      "execution_count": null,
      "outputs": [
        {
          "output_type": "display_data",
          "data": {
            "image/png": "[encoded data removed]",
            "text/plain": [
              "<Figure size 432x288 with 2 Axes>"
            ]
          },
          "metadata": {
            "tags": [],
            "needs_background": "light"
          }
        }
      ]
    },
    {
      "cell_type": "code",
      "metadata": {
        "id": "6aQeylPH0exY",
        "colab_type": "code",
        "colab": {
          "base_uri": "https://localhost:8080/",
          "height": 295
        },
        "outputId": "aecc728c-70ce-43c9-b6ac-d01a5c07d1a2"
      },
      "source": [
        "fpr, tpr, t = sklearn.metrics.roc_curve(y_test, y_score)\n",
        "plot_roc(fpr, tpr,label='ROC curve ')"
      ],
      "execution_count": null,
      "outputs": [
        {
          "output_type": "display_data",
          "data": {
            "image/png": "[encoded data removed]",
            "text/plain": [
              "<Figure size 432x288 with 1 Axes>"
            ]
          },
          "metadata": {
            "tags": [],
            "needs_background": "light"
          }
        }
      ]
    },
    {
      "cell_type": "code",
      "metadata": {
        "id": "tZKxvSw80pYQ",
        "colab_type": "code",
        "colab": {
          "base_uri": "https://localhost:8080/",
          "height": 101
        },
        "outputId": "0b455e78-0398-4c37-e64d-e48aa97ac9d1"
      },
      "source": [
        "print(\"Test accuracy score\", sklearn.metrics.accuracy_score(y_test, y_preds))\n",
        "print('Precision= ',sklearn.metrics.precision_score(y_test, y_preds))\n",
        "print('Recall= ',sklearn.metrics.recall_score(y_test, y_preds))\n",
        "print('F1 score= ',sklearn.metrics.f1_score(y_test, y_preds))\n",
        "from sklearn.metrics import roc_auc_score\n",
        "print('auc= ',roc_auc_score(y_test,y_score))"
      ],
      "execution_count": null,
      "outputs": [
        {
          "output_type": "stream",
          "text": [
            "Test accuracy score 0.7421\n",
            "Precision=  0.7434620174346201\n",
            "Recall=  0.7273096446700508\n",
            "F1 score=  0.7352971364056246\n",
            "auc=  0.8149366807531694\n"
          ],
          "name": "stdout"
        }
      ]
    },
    {
      "cell_type": "code",
      "metadata": {
        "colab_type": "code",
        "id": "qLhkFo45UPeX",
        "colab": {
          "base_uri": "https://localhost:8080/",
          "height": 54
        },
        "outputId": "f12e7021-ac0a-42fc-e815-6fcc9c98ae0d"
      },
      "source": [
        "S = sentiment()\n",
        "S.load_weights('/content/gdrive/My Drive/sentiment.hdf5')"
      ],
      "execution_count": null,
      "outputs": [
        {
          "output_type": "stream",
          "text": [
            "WARNING:tensorflow:Large dropout rate: 0.75 (>0.5). In TensorFlow 2.x, dropout() uses dropout rate instead of keep_prob. Please ensure that this is intended.\n"
          ],
          "name": "stdout"
        }
      ]
    },
    {
      "cell_type": "markdown",
      "metadata": {
        "colab_type": "text",
        "id": "9ed4UNfblVBK"
      },
      "source": [
        "###**Sarcasm Model**"
      ]
    },
    {
      "cell_type": "markdown",
      "metadata": {
        "colab_type": "text",
        "id": "jagv8D6q4YzV"
      },
      "source": [
        "####**Getting Data**"
      ]
    },
    {
      "cell_type": "code",
      "metadata": {
        "colab_type": "code",
        "id": "LZ0pVmjX2cx7",
        "colab": {
          "base_uri": "https://localhost:8080/",
          "height": 67
        },
        "outputId": "1d41c3c4-9c29-468f-8a2a-7a9ea8e889ac"
      },
      "source": [
        "!kaggle datasets download -d rmisra/news-headlines-dataset-for-sarcasm-detection"
      ],
      "execution_count": null,
      "outputs": [
        {
          "output_type": "stream",
          "text": [
            "Downloading news-headlines-dataset-for-sarcasm-detection.zip to /content\n",
            "\r  0% 0.00/3.30M [00:00<?, ?B/s]\n",
            "\r100% 3.30M/3.30M [00:00<00:00, 112MB/s]\n"
          ],
          "name": "stdout"
        }
      ]
    },
    {
      "cell_type": "code",
      "metadata": {
        "colab_type": "code",
        "id": "y_oH8MvB3A4b",
        "colab": {
          "base_uri": "https://localhost:8080/",
          "height": 67
        },
        "outputId": "03552264-93c8-4619-8ac7-4bf0cc941caa"
      },
      "source": [
        "!unzip news-headlines-dataset-for-sarcasm-detection.zip"
      ],
      "execution_count": null,
      "outputs": [
        {
          "output_type": "stream",
          "text": [
            "Archive:  news-headlines-dataset-for-sarcasm-detection.zip\n",
            "  inflating: Sarcasm_Headlines_Dataset.json  \n",
            "  inflating: Sarcasm_Headlines_Dataset_v2.json  \n"
          ],
          "name": "stdout"
        }
      ]
    },
    {
      "cell_type": "markdown",
      "metadata": {
        "colab_type": "text",
        "id": "bLkqTRiw4JCr"
      },
      "source": [
        "####**Preprocessing Data and Preparing Embedding Weights**"
      ]
    },
    {
      "cell_type": "code",
      "metadata": {
        "colab_type": "code",
        "id": "6YSh8qoX23Xm",
        "colab": {
          "base_uri": "https://localhost:8080/",
          "height": 195
        },
        "outputId": "8f904dd6-8135-4846-8fd6-d518c36e9930"
      },
      "source": [
        "df1 = pd.read_json(\"Sarcasm_Headlines_Dataset.json\", lines=True)\n",
        "df2 = pd.read_json(\"Sarcasm_Headlines_Dataset_v2.json\", lines=True)\n",
        "df = pd.concat([df1[['headline', 'is_sarcastic']],df2[['headline', 'is_sarcastic']]], axis=0)\n",
        "df.head()"
      ],
      "execution_count": null,
      "outputs": [
        {
          "output_type": "execute_result",
          "data": {
            "text/html": [
              "<div>\n",
              "<style scoped>\n",
              "    .dataframe tbody tr th:only-of-type {\n",
              "        vertical-align: middle;\n",
              "    }\n",
              "\n",
              "    .dataframe tbody tr th {\n",
              "        vertical-align: top;\n",
              "    }\n",
              "\n",
              "    .dataframe thead th {\n",
              "        text-align: right;\n",
              "    }\n",
              "</style>\n",
              "<table border=\"1\" class=\"dataframe\">\n",
              "  <thead>\n",
              "    <tr style=\"text-align: right;\">\n",
              "      <th></th>\n",
              "      <th>headline</th>\n",
              "      <th>is_sarcastic</th>\n",
              "    </tr>\n",
              "  </thead>\n",
              "  <tbody>\n",
              "    <tr>\n",
              "      <th>0</th>\n",
              "      <td>former versace store clerk sues over secret 'b...</td>\n",
              "      <td>0</td>\n",
              "    </tr>\n",
              "    <tr>\n",
              "      <th>1</th>\n",
              "      <td>the 'roseanne' revival catches up to our thorn...</td>\n",
              "      <td>0</td>\n",
              "    </tr>\n",
              "    <tr>\n",
              "      <th>2</th>\n",
              "      <td>mom starting to fear son's web series closest ...</td>\n",
              "      <td>1</td>\n",
              "    </tr>\n",
              "    <tr>\n",
              "      <th>3</th>\n",
              "      <td>boehner just wants wife to listen, not come up...</td>\n",
              "      <td>1</td>\n",
              "    </tr>\n",
              "    <tr>\n",
              "      <th>4</th>\n",
              "      <td>j.k. rowling wishes snape happy birthday in th...</td>\n",
              "      <td>0</td>\n",
              "    </tr>\n",
              "  </tbody>\n",
              "</table>\n",
              "</div>"
            ],
            "text/plain": [
              "                                            headline  is_sarcastic\n",
              "0  former versace store clerk sues over secret 'b...             0\n",
              "1  the 'roseanne' revival catches up to our thorn...             0\n",
              "2  mom starting to fear son's web series closest ...             1\n",
              "3  boehner just wants wife to listen, not come up...             1\n",
              "4  j.k. rowling wishes snape happy birthday in th...             0"
            ]
          },
          "metadata": {
            "tags": []
          },
          "execution_count": 35
        }
      ]
    },
    {
      "cell_type": "code",
      "metadata": {
        "colab_type": "code",
        "id": "2Tws7qejk1HQ",
        "colab": {
          "base_uri": "https://localhost:8080/",
          "height": 50
        },
        "outputId": "8242b7fa-84ce-4887-d2e7-826ca1b81628"
      },
      "source": [
        "temp1 = df1['headline'].apply(lambda x : len(x.split()))\n",
        "print(max(temp1))\n",
        "temp = df2['headline'].apply(lambda x : len(x.split()))\n",
        "print(max(temp))"
      ],
      "execution_count": null,
      "outputs": [
        {
          "output_type": "stream",
          "text": [
            "39\n",
            "151\n"
          ],
          "name": "stdout"
        }
      ]
    },
    {
      "cell_type": "code",
      "metadata": {
        "colab_type": "code",
        "id": "fHRW_Br_loHx",
        "colab": {
          "base_uri": "https://localhost:8080/",
          "height": 298
        },
        "outputId": "72a9262d-98d1-4f4b-84be-14cc7e59b4cf"
      },
      "source": [
        "plt.hist(temp1, bins=max(temp1))\n",
        "plt.title(\"Distribution of lengths of sentences in dataset1\")"
      ],
      "execution_count": null,
      "outputs": [
        {
          "output_type": "execute_result",
          "data": {
            "text/plain": [
              "Text(0.5, 1.0, 'Distribution of lengths of sentences in dataset1')"
            ]
          },
          "metadata": {
            "tags": []
          },
          "execution_count": 37
        },
        {
          "output_type": "display_data",
          "data": {
            "image/png": "[encoded data removed]",
            "text/plain": [
              "<Figure size 432x288 with 1 Axes>"
            ]
          },
          "metadata": {
            "tags": [],
            "needs_background": "light"
          }
        }
      ]
    },
    {
      "cell_type": "code",
      "metadata": {
        "colab_type": "code",
        "id": "q8iHa5B1lus-",
        "colab": {
          "base_uri": "https://localhost:8080/",
          "height": 298
        },
        "outputId": "d777cb11-8f7d-451f-f93f-f24291875bbf"
      },
      "source": [
        "plt.hist(temp, bins=max(temp))\n",
        "plt.title(\"Distribution of lengths of sentences in dataset2\")"
      ],
      "execution_count": null,
      "outputs": [
        {
          "output_type": "execute_result",
          "data": {
            "text/plain": [
              "Text(0.5, 1.0, 'Distribution of lengths of sentences in dataset2')"
            ]
          },
          "metadata": {
            "tags": []
          },
          "execution_count": 38
        },
        {
          "output_type": "display_data",
          "data": {
            "image/png": "[encoded data removed]",
            "text/plain": [
              "<Figure size 432x288 with 1 Axes>"
            ]
          },
          "metadata": {
            "tags": [],
            "needs_background": "light"
          }
        }
      ]
    },
    {
      "cell_type": "code",
      "metadata": {
        "colab_type": "code",
        "id": "fr5aAxbfEmr2",
        "colab": {
          "base_uri": "https://localhost:8080/",
          "height": 298
        },
        "outputId": "f0668a64-8ab2-49b7-8a6e-fa50fafffdda"
      },
      "source": [
        "df['is_sarcastic'].value_counts().plot(kind='barh')\n",
        "plt.title(\"Class Distribution\")"
      ],
      "execution_count": null,
      "outputs": [
        {
          "output_type": "execute_result",
          "data": {
            "text/plain": [
              "Text(0.5, 1.0, 'Class Distribution')"
            ]
          },
          "metadata": {
            "tags": []
          },
          "execution_count": 39
        },
        {
          "output_type": "display_data",
          "data": {
            "image/png": "[encoded data removed]",
            "text/plain": [
              "<Figure size 432x288 with 1 Axes>"
            ]
          },
          "metadata": {
            "tags": [],
            "needs_background": "light"
          }
        }
      ]
    },
    {
      "cell_type": "code",
      "metadata": {
        "colab_type": "code",
        "id": "EC2IXAH_24QS",
        "colab": {}
      },
      "source": [
        "# df = df.drop(['article_link'],axis=1)\n",
        "# df['len'] = df['headline'].apply(lambda x : len(x.split()))"
      ],
      "execution_count": null,
      "outputs": []
    },
    {
      "cell_type": "code",
      "metadata": {
        "colab_type": "code",
        "id": "pUuQcUdpEUJv",
        "colab": {}
      },
      "source": [
        "X = np.array(df['headline'])\n",
        "y = np.array(df['is_sarcastic'])\n",
        "\n",
        "y = y.reshape((y.shape[0],1))\n",
        "X = X.squeeze()\n",
        "m = X.shape[0]\n",
        "perm = np.random.permutation(m)\n",
        "X = X[perm]\n",
        "y = y[perm,:]\n",
        "\n",
        "X_test = X[:10000]\n",
        "y_test = y[:10000,:]\n",
        "\n",
        "X_val = X[10000:20000]\n",
        "y_val = y[10000:20000,:]\n",
        "\n",
        "X_train = X[20000:]\n",
        "y_train = y[20000:,:]"
      ],
      "execution_count": null,
      "outputs": []
    },
    {
      "cell_type": "code",
      "metadata": {
        "colab_type": "code",
        "id": "p2Hrj7Go4BnP",
        "colab": {
          "base_uri": "https://localhost:8080/",
          "height": 34
        },
        "outputId": "8e650cf1-eaed-4e3c-9414-a12de9166434"
      },
      "source": [
        "max_len = min(max(len(x.split()) for x in X_train), 20) #25 when used lstm, 98% accuracy\n",
        "embedding_size = 300\n",
        "embedding_file = 'crawl-300d-2M.vec'\n",
        "print(\"max length:\",max_len)"
      ],
      "execution_count": null,
      "outputs": [
        {
          "output_type": "stream",
          "text": [
            "max length: 20\n"
          ],
          "name": "stdout"
        }
      ]
    },
    {
      "cell_type": "code",
      "metadata": {
        "colab_type": "code",
        "id": "TtY0xEmj5dsM",
        "colab": {
          "base_uri": "https://localhost:8080/",
          "height": 67
        },
        "outputId": "64a99fa4-07b2-44bf-f205-1ba6c0ae68c7"
      },
      "source": [
        "tokenizer = Tokenizer()\n",
        "tokenizer.fit_on_texts(list(X))\n",
        "\n",
        "X = tokenizer.texts_to_sequences(list(X_train))\n",
        "X_train = np.array(pad_sequences(X, max_len))\n",
        "\n",
        "X = tokenizer.texts_to_sequences(list(X_val))\n",
        "X_val = np.array(pad_sequences(X, max_len))\n",
        "\n",
        "X = tokenizer.texts_to_sequences(list(X_test))\n",
        "X_test = np.array(pad_sequences(X, max_len))\n",
        "\n",
        "print(y_train.shape, X_train.shape)\n",
        "print(y_val.shape, X_val.shape)\n",
        "print(y_test.shape, X_test.shape)"
      ],
      "execution_count": null,
      "outputs": [
        {
          "output_type": "stream",
          "text": [
            "(35328, 1) (35328, 20)\n",
            "(10000, 1) (10000, 20)\n",
            "(10000, 1) (10000, 20)\n"
          ],
          "name": "stdout"
        }
      ]
    },
    {
      "cell_type": "code",
      "metadata": {
        "colab_type": "code",
        "id": "pnYm9SaEqKr6",
        "colab": {
          "base_uri": "https://localhost:8080/",
          "height": 34
        },
        "outputId": "7019dbbd-1a90-4c20-d82e-abb375b1913c"
      },
      "source": [
        "word_index = tokenizer.word_index\n",
        "vocab_size = len(word_index) + 1\n",
        "print(vocab_size)"
      ],
      "execution_count": null,
      "outputs": [
        {
          "output_type": "stream",
          "text": [
            "30885\n"
          ],
          "name": "stdout"
        }
      ]
    },
    {
      "cell_type": "code",
      "metadata": {
        "colab_type": "code",
        "id": "DjOsXv4-aQ8-",
        "colab": {}
      },
      "source": [
        "def get_indices(word, *arr):\n",
        "    return word,np.asarray(arr, dtype=np.float32)\n",
        "\n",
        "word_to_vec = dict(get_indices(*i.rstrip().rsplit()) for i in open(embedding_file))\n",
        "\n",
        "embedding_matrix_B = np.zeros((vocab_size, embedding_size))\n",
        "\n",
        "for word,i in word_index.items():\n",
        "    if i >= vocab_size:\n",
        "        continue\n",
        "    embedding_vector = word_to_vec.get(word)\n",
        "    if embedding_vector is not None:\n",
        "        embedding_matrix_B[i] = embedding_vector"
      ],
      "execution_count": null,
      "outputs": []
    },
    {
      "cell_type": "markdown",
      "metadata": {
        "colab_type": "text",
        "id": "bnMe5orw72yB"
      },
      "source": [
        "####**CNN Model**"
      ]
    },
    {
      "cell_type": "code",
      "metadata": {
        "colab_type": "code",
        "id": "4w1leWNu76HJ",
        "colab": {}
      },
      "source": [
        "def baseline():\n",
        "    vocab_size=30885\n",
        "    model = tf.keras.Sequential()\n",
        "\n",
        "    model.add(tf.keras.layers.Embedding(vocab_size, \n",
        "                                        embedding_size, \n",
        "                                        input_length=max_len, \n",
        "                                        weights=[embedding_matrix_B], \n",
        "                                        trainable=True,\n",
        "                                        name='Embedding_B'))\n",
        "    \n",
        "    model.add(tf.keras.layers.Conv1D(filters=50,\n",
        "                                     kernel_size=5,\n",
        "                                     activation='relu',\n",
        "                                     name='conv1_B'))\n",
        "    model.add(tf.keras.layers.MaxPooling1D(2, name='max_pool1_B'))\n",
        "\n",
        "    model.add(tf.keras.layers.Conv1D(filters=100,\n",
        "                                     kernel_size=3,\n",
        "                                     activation='relu',\n",
        "                                     name='conv2_B'))\n",
        "    model.add(tf.keras.layers.MaxPooling1D(2, name='max_pool2_B'))\n",
        "    model.add(tf.keras.layers.Flatten())\n",
        "\n",
        "    model.add(tf.keras.layers.Dense(100, activation='relu', name='dense1_B'))\n",
        "    model.add(tf.keras.layers.Dropout(0.5, name='dropout1_B'))\n",
        "    model.add(tf.keras.layers.Dense(1, activation='sigmoid', name='output_B'))\n",
        "\n",
        "    return model"
      ],
      "execution_count": null,
      "outputs": []
    },
    {
      "cell_type": "code",
      "metadata": {
        "colab_type": "code",
        "id": "eYqfswBS-2aR",
        "colab": {
          "base_uri": "https://localhost:8080/",
          "height": 726
        },
        "outputId": "2a18ebbe-6edd-4102-a25f-38e21d7d13d4"
      },
      "source": [
        "batch_size = 32\n",
        "epochs = 10\n",
        "learning_rate = 5e-5\n",
        "\n",
        "model = baseline()\n",
        "checkpointer = ModelCheckpoint(filepath = \"/content/gdrive/My Drive/baseline.hdf5\", \n",
        "                               monitor='val_loss', \n",
        "                               verbose=1,\n",
        "                               save_best_only=True,\n",
        "                               mode='min')\n",
        "\n",
        "model.compile(loss='binary_crossentropy',\n",
        "              optimizer=tf.keras.optimizers.Adam(learning_rate=learning_rate),\n",
        "              metrics=['accuracy', f1_m])\n",
        "\n",
        "history = model.fit(X_train,\n",
        "                    y_train,\n",
        "                    batch_size=batch_size,\n",
        "                    epochs=epochs,\n",
        "                    callbacks=[checkpointer],\n",
        "                    validation_data=(X_val,y_val))"
      ],
      "execution_count": null,
      "outputs": [
        {
          "output_type": "stream",
          "text": [
            "Train on 35328 samples, validate on 10000 samples\n",
            "Epoch 1/10\n",
            "35296/35328 [============================>.] - ETA: 0s - loss: 0.5741 - acc: 0.6985 - f1_m: 0.6187\n",
            "Epoch 00001: val_loss improved from inf to 0.40440, saving model to /content/gdrive/My Drive/baseline.hdf5\n",
            "35328/35328 [==============================] - 16s 453us/sample - loss: 0.5740 - acc: 0.6986 - f1_m: 0.6189 - val_loss: 0.4044 - val_acc: 0.8271 - val_f1_m: 0.8139\n",
            "Epoch 2/10\n",
            "35200/35328 [============================>.] - ETA: 0s - loss: 0.3400 - acc: 0.8589 - f1_m: 0.8407\n",
            "Epoch 00002: val_loss improved from 0.40440 to 0.29895, saving model to /content/gdrive/My Drive/baseline.hdf5\n",
            "35328/35328 [==============================] - 17s 487us/sample - loss: 0.3398 - acc: 0.8590 - f1_m: 0.8408 - val_loss: 0.2990 - val_acc: 0.8780 - val_f1_m: 0.8613\n",
            "Epoch 3/10\n",
            "35296/35328 [============================>.] - ETA: 0s - loss: 0.2420 - acc: 0.9072 - f1_m: 0.8952\n",
            "Epoch 00003: val_loss improved from 0.29895 to 0.25493, saving model to /content/gdrive/My Drive/baseline.hdf5\n",
            "35328/35328 [==============================] - 17s 481us/sample - loss: 0.2420 - acc: 0.9073 - f1_m: 0.8952 - val_loss: 0.2549 - val_acc: 0.8959 - val_f1_m: 0.8806\n",
            "Epoch 4/10\n",
            "35296/35328 [============================>.] - ETA: 0s - loss: 0.1773 - acc: 0.9374 - f1_m: 0.9297\n",
            "Epoch 00004: val_loss improved from 0.25493 to 0.22037, saving model to /content/gdrive/My Drive/baseline.hdf5\n",
            "35328/35328 [==============================] - 17s 475us/sample - loss: 0.1773 - acc: 0.9373 - f1_m: 0.9296 - val_loss: 0.2204 - val_acc: 0.9153 - val_f1_m: 0.9061\n",
            "Epoch 5/10\n",
            "35200/35328 [============================>.] - ETA: 0s - loss: 0.1266 - acc: 0.9585 - f1_m: 0.9531\n",
            "Epoch 00005: val_loss improved from 0.22037 to 0.19626, saving model to /content/gdrive/My Drive/baseline.hdf5\n",
            "35328/35328 [==============================] - 17s 484us/sample - loss: 0.1267 - acc: 0.9585 - f1_m: 0.9531 - val_loss: 0.1963 - val_acc: 0.9252 - val_f1_m: 0.9159\n",
            "Epoch 6/10\n",
            "35296/35328 [============================>.] - ETA: 0s - loss: 0.0853 - acc: 0.9745 - f1_m: 0.9712\n",
            "Epoch 00006: val_loss improved from 0.19626 to 0.18114, saving model to /content/gdrive/My Drive/baseline.hdf5\n",
            "35328/35328 [==============================] - 17s 491us/sample - loss: 0.0853 - acc: 0.9745 - f1_m: 0.9712 - val_loss: 0.1811 - val_acc: 0.9348 - val_f1_m: 0.9253\n",
            "Epoch 7/10\n",
            "35264/35328 [============================>.] - ETA: 0s - loss: 0.0557 - acc: 0.9855 - f1_m: 0.9835\n",
            "Epoch 00007: val_loss improved from 0.18114 to 0.17006, saving model to /content/gdrive/My Drive/baseline.hdf5\n",
            "35328/35328 [==============================] - 17s 479us/sample - loss: 0.0557 - acc: 0.9855 - f1_m: 0.9836 - val_loss: 0.1701 - val_acc: 0.9441 - val_f1_m: 0.9378\n",
            "Epoch 8/10\n",
            "35200/35328 [============================>.] - ETA: 0s - loss: 0.0347 - acc: 0.9924 - f1_m: 0.9914\n",
            "Epoch 00008: val_loss did not improve from 0.17006\n",
            "35328/35328 [==============================] - 15s 435us/sample - loss: 0.0347 - acc: 0.9924 - f1_m: 0.9915 - val_loss: 0.1708 - val_acc: 0.9463 - val_f1_m: 0.9396\n",
            "Epoch 9/10\n",
            "35296/35328 [============================>.] - ETA: 0s - loss: 0.0193 - acc: 0.9964 - f1_m: 0.9960\n",
            "Epoch 00009: val_loss did not improve from 0.17006\n",
            "35328/35328 [==============================] - 15s 425us/sample - loss: 0.0193 - acc: 0.9964 - f1_m: 0.9960 - val_loss: 0.1781 - val_acc: 0.9486 - val_f1_m: 0.9417\n",
            "Epoch 10/10\n",
            "35264/35328 [============================>.] - ETA: 0s - loss: 0.0111 - acc: 0.9981 - f1_m: 0.9978\n",
            "Epoch 00010: val_loss did not improve from 0.17006\n",
            "35328/35328 [==============================] - 15s 421us/sample - loss: 0.0111 - acc: 0.9981 - f1_m: 0.9978 - val_loss: 0.1898 - val_acc: 0.9490 - val_f1_m: 0.9434\n"
          ],
          "name": "stdout"
        }
      ]
    },
    {
      "cell_type": "code",
      "metadata": {
        "colab_type": "code",
        "id": "qAMopUK7Akuh",
        "colab": {
          "base_uri": "https://localhost:8080/",
          "height": 545
        },
        "outputId": "f1b2f183-88d8-448a-9563-bd605a9c4d27"
      },
      "source": [
        "loss = history.history['loss']\n",
        "val_loss = history.history['val_loss']\n",
        "acc = history.history['acc']\n",
        "val_acc = history.history['val_acc']\n",
        "epoch = history.epoch\n",
        "\n",
        "plt.plot(epoch,loss, label='loss')\n",
        "plt.plot(epoch, val_loss, label='val loss')\n",
        "plt.legend()\n",
        "plt.title('epochs vs loss')\n",
        "plt.show()\n",
        "\n",
        "plt.plot(epoch,acc, label='accuracy')\n",
        "plt.plot(epoch, val_acc, label='val accuracy')\n",
        "plt.legend()\n",
        "plt.title('epochs vs accuracy')\n",
        "plt.show()"
      ],
      "execution_count": null,
      "outputs": [
        {
          "output_type": "display_data",
          "data": {
            "image/png": "[encoded data removed]",
            "text/plain": [
              "<Figure size 432x288 with 1 Axes>"
            ]
          },
          "metadata": {
            "tags": [],
            "needs_background": "light"
          }
        },
        {
          "output_type": "display_data",
          "data": {
            "image/png": "[encoded data removed]",
            "text/plain": [
              "<Figure size 432x288 with 1 Axes>"
            ]
          },
          "metadata": {
            "tags": [],
            "needs_background": "light"
          }
        }
      ]
    },
    {
      "cell_type": "markdown",
      "metadata": {
        "colab_type": "text",
        "id": "Ngn1oWBuCPbz"
      },
      "source": [
        "**Test Set Performance**"
      ]
    },
    {
      "cell_type": "code",
      "metadata": {
        "colab_type": "code",
        "id": "0xBSV69FCPb2",
        "colab": {
          "base_uri": "https://localhost:8080/",
          "height": 34
        },
        "outputId": "1d06f7fc-f939-4bc9-8df4-3a6126c50391"
      },
      "source": [
        "model.load_weights('/content/gdrive/My Drive/baseline.hdf5')\n",
        "results = model.evaluate(X_test,\n",
        "                         y_test,\n",
        "                         batch_size=batch_size\n",
        "                         )"
      ],
      "execution_count": null,
      "outputs": [
        {
          "output_type": "stream",
          "text": [
            "10000/10000 [==============================] - 1s 86us/sample - loss: 0.1867 - acc: 0.9391 - f1_m: 0.9304\n"
          ],
          "name": "stdout"
        }
      ]
    },
    {
      "cell_type": "code",
      "metadata": {
        "colab_type": "code",
        "id": "q5emi-h8CPb7",
        "colab": {
          "base_uri": "https://localhost:8080/",
          "height": 67
        },
        "outputId": "7f96c0a8-6a3b-42cd-93ee-408c5acf7326"
      },
      "source": [
        "print(\"Loss on test set:\", results[0])\n",
        "print(\"Accuracy on test set:\", results[1])\n",
        "print (\"F1 score on test set:\", results[2])"
      ],
      "execution_count": null,
      "outputs": [
        {
          "output_type": "stream",
          "text": [
            "Loss on test set: 0.18672041215598584\n",
            "Accuracy on test set: 0.9391\n",
            "F1 score on test set: 0.9303808\n"
          ],
          "name": "stdout"
        }
      ]
    },
    {
      "cell_type": "code",
      "metadata": {
        "id": "lmTFUG4-1jCa",
        "colab_type": "code",
        "colab": {}
      },
      "source": [
        "y_score = model.predict(X_test, batch_size=1024)\n",
        "y_preds = model.predict(X_test, batch_size=1024).round().astype(int)"
      ],
      "execution_count": null,
      "outputs": []
    },
    {
      "cell_type": "code",
      "metadata": {
        "id": "DQ1rkaih11pI",
        "colab_type": "code",
        "colab": {
          "base_uri": "https://localhost:8080/",
          "height": 311
        },
        "outputId": "1887cc69-3e14-4a65-c6aa-42f2523b1e7a"
      },
      "source": [
        "cm=sklearn.metrics.confusion_matrix(y_test, y_preds)\n",
        "plot_confusion_matrix(cm,classes=['Non sarcastic','sarcastic'],title='Confusion Matrix')"
      ],
      "execution_count": null,
      "outputs": [
        {
          "output_type": "display_data",
          "data": {
            "image/png": "[encoded data removed]",
            "text/plain": [
              "<Figure size 432x288 with 2 Axes>"
            ]
          },
          "metadata": {
            "tags": [],
            "needs_background": "light"
          }
        }
      ]
    },
    {
      "cell_type": "code",
      "metadata": {
        "id": "Hp4yAKMV1-4J",
        "colab_type": "code",
        "colab": {
          "base_uri": "https://localhost:8080/",
          "height": 295
        },
        "outputId": "9fc9d72d-3d52-4986-ce7f-907ab163e4ec"
      },
      "source": [
        "fpr, tpr, t = sklearn.metrics.roc_curve(y_test, y_score)\n",
        "plot_roc(fpr, tpr,label='ROC curve ')"
      ],
      "execution_count": null,
      "outputs": [
        {
          "output_type": "display_data",
          "data": {
            "image/png": "[encoded data removed]",
            "text/plain": [
              "<Figure size 432x288 with 1 Axes>"
            ]
          },
          "metadata": {
            "tags": [],
            "needs_background": "light"
          }
        }
      ]
    },
    {
      "cell_type": "code",
      "metadata": {
        "id": "Kt6QhlYQ1_uR",
        "colab_type": "code",
        "colab": {
          "base_uri": "https://localhost:8080/",
          "height": 101
        },
        "outputId": "b522a1a2-3f59-4b41-8af2-ef7f604caa4b"
      },
      "source": [
        "print(\"Test accuracy score\", sklearn.metrics.accuracy_score(y_test, y_preds))\n",
        "print('Precision= ',sklearn.metrics.precision_score(y_test, y_preds))\n",
        "print('Recall= ',sklearn.metrics.recall_score(y_test, y_preds))\n",
        "print('F1 score= ',sklearn.metrics.f1_score(y_test, y_preds))\n",
        "from sklearn.metrics import roc_auc_score\n",
        "print('auc= ',roc_auc_score(y_test,y_score))"
      ],
      "execution_count": null,
      "outputs": [
        {
          "output_type": "stream",
          "text": [
            "Test accuracy score 0.9391\n",
            "Precision=  0.9312486138833445\n",
            "Recall=  0.9335260115606936\n",
            "F1 score=  0.9323859220606194\n",
            "auc=  0.9795343429019465\n"
          ],
          "name": "stdout"
        }
      ]
    },
    {
      "cell_type": "code",
      "metadata": {
        "colab_type": "code",
        "id": "w6abAgGjnvmq",
        "colab": {}
      },
      "source": [
        "B = baseline()\n",
        "B.load_weights('/content/gdrive/My Drive/baseline.hdf5')"
      ],
      "execution_count": null,
      "outputs": []
    },
    {
      "cell_type": "code",
      "metadata": {
        "id": "BrvhAFRi19Pm",
        "colab_type": "code",
        "colab": {}
      },
      "source": [
        ""
      ],
      "execution_count": null,
      "outputs": []
    },
    {
      "cell_type": "markdown",
      "metadata": {
        "colab_type": "text",
        "id": "wGNsonaLy4eY"
      },
      "source": [
        "####**CNN-SVM Model**"
      ]
    },
    {
      "cell_type": "code",
      "metadata": {
        "colab_type": "code",
        "id": "c_k_8KefXv3O",
        "colab": {}
      },
      "source": [
        "from sklearn import svm\n",
        "from mlxtend.plotting import plot_decision_regions\n",
        "from sklearn.model_selection import learning_curve\n",
        "from sklearn.metrics import accuracy_score"
      ],
      "execution_count": null,
      "outputs": []
    },
    {
      "cell_type": "code",
      "metadata": {
        "colab_type": "code",
        "id": "u9ZZ90e0BReg",
        "colab": {
          "base_uri": "https://localhost:8080/",
          "height": 84
        },
        "outputId": "39c631e1-2f45-4192-b7ef-2879062157bc"
      },
      "source": [
        "m_temp = tf.keras.Model(inputs=B.input, outputs=B.get_layer('dropout1_B').output)\n",
        "t = m_temp.predict(X_train)\n",
        "arr = K.eval(t)\n",
        "\n",
        "clf = svm.SVC(kernel='rbf', C=20, gamma=.1,probability=True)\n",
        "\n",
        "train_sizes, train_scores, valid_scores = learning_curve(clf, arr, y_train.ravel())\n",
        "\n",
        "clf.fit(arr, y_train.ravel())"
      ],
      "execution_count": null,
      "outputs": [
        {
          "output_type": "execute_result",
          "data": {
            "text/plain": [
              "SVC(C=20, break_ties=False, cache_size=200, class_weight=None, coef0=0.0,\n",
              "    decision_function_shape='ovr', degree=3, gamma=0.1, kernel='rbf',\n",
              "    max_iter=-1, probability=True, random_state=None, shrinking=True, tol=0.001,\n",
              "    verbose=False)"
            ]
          },
          "metadata": {
            "tags": []
          },
          "execution_count": 110
        }
      ]
    },
    {
      "cell_type": "code",
      "metadata": {
        "colab_type": "code",
        "id": "IgM0ZvwMZhUj",
        "colab": {
          "base_uri": "https://localhost:8080/",
          "height": 281
        },
        "outputId": "81734afa-d133-4ca2-e4d9-b53e64737c00"
      },
      "source": [
        "train_scores_mean = np.mean(train_scores, axis=1)\n",
        "valid_scores_mean = np.mean(valid_scores, axis=1)\n",
        "\n",
        "plt.plot(train_sizes, train_scores_mean, label='train score')\n",
        "plt.plot(train_sizes, valid_scores_mean, label='valid score')\n",
        "plt.legend()\n",
        "plt.title(\"Training Size vs Score\")\n",
        "plt.show()"
      ],
      "execution_count": null,
      "outputs": [
        {
          "output_type": "display_data",
          "data": {
            "image/png": "[encoded data removed]",
            "text/plain": [
              "<Figure size 432x288 with 1 Axes>"
            ]
          },
          "metadata": {
            "tags": [],
            "needs_background": "light"
          }
        }
      ]
    },
    {
      "cell_type": "code",
      "metadata": {
        "colab_type": "code",
        "id": "45QIT9CkCy0S",
        "colab": {
          "base_uri": "https://localhost:8080/",
          "height": 67
        },
        "outputId": "d41cd8a1-d649-4874-ef64-62957b769d62"
      },
      "source": [
        "m_temp = tf.keras.Model(inputs=B.input, outputs=B.get_layer('dense1_B').output)\n",
        "tt = m_temp.predict(X_test)\n",
        "tt = K.eval(tt)\n",
        "ans = clf.predict(tt)\n",
        "\n",
        "tt = m_temp.predict(X_train)\n",
        "tt = K.eval(tt)\n",
        "trn = clf.predict(tt)\n",
        "\n",
        "tt = m_temp.predict(X_val)\n",
        "tt = K.eval(tt)\n",
        "val = clf.predict(tt)\n",
        "print(\"Train Acc:\", accuracy_score(y_train.ravel(), trn))\n",
        "print(\"Val Acc:\", accuracy_score(y_val.ravel(), val))\n",
        "print(\"Test Acc:\", accuracy_score(y_test.ravel(), ans))"
      ],
      "execution_count": null,
      "outputs": [
        {
          "output_type": "stream",
          "text": [
            "Train Acc: 0.99609375\n",
            "Val Acc: 0.9468\n",
            "Test Acc: 0.9426\n"
          ],
          "name": "stdout"
        }
      ]
    },
    {
      "cell_type": "code",
      "metadata": {
        "id": "OR63qU2c3uz_",
        "colab_type": "code",
        "colab": {}
      },
      "source": [
        "m_temp = tf.keras.Model(inputs=B.input, outputs=B.get_layer('dense1_B').output)\n",
        "tt = m_temp.predict(X_test)\n",
        "tt = K.eval(tt)\n",
        "y_score = clf.predict_proba(tt)[:, 1]\n",
        "y_preds = clf.predict(tt).round().astype(int)"
      ],
      "execution_count": null,
      "outputs": []
    },
    {
      "cell_type": "code",
      "metadata": {
        "id": "qVMdukeU2pJd",
        "colab_type": "code",
        "colab": {
          "base_uri": "https://localhost:8080/",
          "height": 311
        },
        "outputId": "3cec99f5-c1af-45e8-c0e1-48b72f9ba6c3"
      },
      "source": [
        "cm=sklearn.metrics.confusion_matrix(y_test, y_preds)\n",
        "plot_confusion_matrix(cm,classes=['Non sarcastic','sarcastic'],title='Confusion Matrix')"
      ],
      "execution_count": null,
      "outputs": [
        {
          "output_type": "display_data",
          "data": {
            "image/png": "[encoded data removed]",
            "text/plain": [
              "<Figure size 432x288 with 2 Axes>"
            ]
          },
          "metadata": {
            "tags": [],
            "needs_background": "light"
          }
        }
      ]
    },
    {
      "cell_type": "code",
      "metadata": {
        "id": "rYWqk0Ku4CQt",
        "colab_type": "code",
        "colab": {
          "base_uri": "https://localhost:8080/",
          "height": 295
        },
        "outputId": "aa56a1c4-3d13-4a2b-8525-13aad183cf23"
      },
      "source": [
        "fpr, tpr, t = sklearn.metrics.roc_curve(y_test, y_score)\n",
        "plot_roc(fpr, tpr,label='ROC curve ')"
      ],
      "execution_count": null,
      "outputs": [
        {
          "output_type": "display_data",
          "data": {
            "image/png": "[encoded data removed]",
            "text/plain": [
              "<Figure size 432x288 with 1 Axes>"
            ]
          },
          "metadata": {
            "tags": [],
            "needs_background": "light"
          }
        }
      ]
    },
    {
      "cell_type": "code",
      "metadata": {
        "id": "YPY18nQp4CAz",
        "colab_type": "code",
        "colab": {
          "base_uri": "https://localhost:8080/",
          "height": 101
        },
        "outputId": "e9b5c524-1e71-434a-c1c2-0817a8428245"
      },
      "source": [
        "print(\"Test accuracy score\", sklearn.metrics.accuracy_score(y_test, y_preds))\n",
        "print('Precision= ',sklearn.metrics.precision_score(y_test, y_preds))\n",
        "print('Recall= ',sklearn.metrics.recall_score(y_test, y_preds))\n",
        "print('F1 score= ',sklearn.metrics.f1_score(y_test, y_preds))\n",
        "from sklearn.metrics import roc_auc_score\n",
        "print('auc= ',roc_auc_score(y_test,y_score))"
      ],
      "execution_count": null,
      "outputs": [
        {
          "output_type": "stream",
          "text": [
            "Test accuracy score 0.9426\n",
            "Precision=  0.9412955465587044\n",
            "Recall=  0.9304135171187194\n",
            "F1 score=  0.9358228980322004\n",
            "auc=  0.9558696793065589\n"
          ],
          "name": "stdout"
        }
      ]
    },
    {
      "cell_type": "code",
      "metadata": {
        "id": "XaIVU0oU4B38",
        "colab_type": "code",
        "colab": {}
      },
      "source": [
        ""
      ],
      "execution_count": null,
      "outputs": []
    },
    {
      "cell_type": "markdown",
      "metadata": {
        "colab_type": "text",
        "id": "XCQpneHCnkeP"
      },
      "source": [
        "###**Model Combination**"
      ]
    },
    {
      "cell_type": "markdown",
      "metadata": {
        "colab_type": "text",
        "id": "omwK2jdvZrxY"
      },
      "source": [
        "####**Baseline with Sentiment**"
      ]
    },
    {
      "cell_type": "code",
      "metadata": {
        "colab_type": "code",
        "id": "WOS_rMIdUSQp",
        "colab": {}
      },
      "source": [
        "sentiment_model = tf.keras.Model(inputs=S.input, outputs=S.get_layer('dropout1_S').output)\n",
        "baseline_model = tf.keras.Model(inputs=B.input, outputs=B.get_layer('dropout1_B').output)\n",
        "\n",
        "sentiment_model.trainable = True\n",
        "baseline_model.trainable = True"
      ],
      "execution_count": null,
      "outputs": []
    },
    {
      "cell_type": "code",
      "metadata": {
        "colab_type": "code",
        "id": "S_7iKiUioLWn",
        "colab": {}
      },
      "source": [
        "def combined():\n",
        "    ip = tf.keras.Input(shape=(max_len,))\n",
        "\n",
        "    x1 = sentiment_model(ip)\n",
        "    x2 = baseline_model(ip)\n",
        "    z = tf.keras.layers.concatenate([x2,x1], axis=1)\n",
        "    z = tf.keras.layers.Flatten(name='flatten1_C')(z)\n",
        "    z = tf.keras.layers.Dropout(0.65, name='dropout1_C')(z)\n",
        "    out = tf.keras.layers.Dense(1, activation='sigmoid')(z)\n",
        "\n",
        "    model = tf.keras.Model(inputs=ip, outputs=out)\n",
        "    \n",
        "    return model"
      ],
      "execution_count": null,
      "outputs": []
    },
    {
      "cell_type": "code",
      "metadata": {
        "colab_type": "code",
        "id": "pq__zs6Z8u09",
        "colab": {
          "base_uri": "https://localhost:8080/",
          "height": 759
        },
        "outputId": "81118e2f-8aaa-486f-bf36-7622e795bef1"
      },
      "source": [
        "batch_size = 32\n",
        "epochs = 10\n",
        "learning_rate = 1e-5\n",
        "\n",
        "model = combined()\n",
        "checkpointer = ModelCheckpoint(filepath = \"/content/gdrive/My Drive/combined.hdf5\", \n",
        "                               monitor='val_loss', \n",
        "                               verbose=1,\n",
        "                               save_best_only=True,\n",
        "                               mode='min')\n",
        "\n",
        "model.compile(loss='binary_crossentropy',\n",
        "              optimizer=tf.keras.optimizers.Adam(learning_rate=learning_rate),\n",
        "              metrics=['accuracy', f1_m])\n",
        "\n",
        "history = model.fit(X_train,\n",
        "                    y_train,\n",
        "                    batch_size=batch_size,\n",
        "                    epochs=epochs,\n",
        "                    callbacks=[checkpointer],\n",
        "                    validation_data=(X_val,y_val))"
      ],
      "execution_count": null,
      "outputs": [
        {
          "output_type": "stream",
          "text": [
            "WARNING:tensorflow:Large dropout rate: 0.75 (>0.5). In TensorFlow 2.x, dropout() uses dropout rate instead of keep_prob. Please ensure that this is intended.\n",
            "WARNING:tensorflow:Large dropout rate: 0.65 (>0.5). In TensorFlow 2.x, dropout() uses dropout rate instead of keep_prob. Please ensure that this is intended.\n",
            "Train on 35328 samples, validate on 10000 samples\n",
            "Epoch 1/10\n",
            "35296/35328 [============================>.] - ETA: 0s - loss: 0.5679 - acc: 0.7087 - f1_m: 0.6788\n",
            "Epoch 00001: val_loss improved from inf to 0.30610, saving model to /content/gdrive/My Drive/combined.hdf5\n",
            "35328/35328 [==============================] - 39s 1ms/sample - loss: 0.5677 - acc: 0.7088 - f1_m: 0.6790 - val_loss: 0.3061 - val_acc: 0.9379 - val_f1_m: 0.9317\n",
            "Epoch 2/10\n",
            "35296/35328 [============================>.] - ETA: 0s - loss: 0.2752 - acc: 0.9085 - f1_m: 0.8965\n",
            "Epoch 00002: val_loss improved from 0.30610 to 0.22219, saving model to /content/gdrive/My Drive/combined.hdf5\n",
            "35328/35328 [==============================] - 40s 1ms/sample - loss: 0.2752 - acc: 0.9085 - f1_m: 0.8966 - val_loss: 0.2222 - val_acc: 0.9390 - val_f1_m: 0.9309\n",
            "Epoch 3/10\n",
            "35296/35328 [============================>.] - ETA: 0s - loss: 0.1996 - acc: 0.9451 - f1_m: 0.9380\n",
            "Epoch 00003: val_loss improved from 0.22219 to 0.19118, saving model to /content/gdrive/My Drive/combined.hdf5\n",
            "35328/35328 [==============================] - 40s 1ms/sample - loss: 0.1995 - acc: 0.9452 - f1_m: 0.9380 - val_loss: 0.1912 - val_acc: 0.9397 - val_f1_m: 0.9327\n",
            "Epoch 4/10\n",
            "35296/35328 [============================>.] - ETA: 0s - loss: 0.1584 - acc: 0.9593 - f1_m: 0.9544\n",
            "Epoch 00004: val_loss improved from 0.19118 to 0.17669, saving model to /content/gdrive/My Drive/combined.hdf5\n",
            "35328/35328 [==============================] - 39s 1ms/sample - loss: 0.1583 - acc: 0.9594 - f1_m: 0.9545 - val_loss: 0.1767 - val_acc: 0.9390 - val_f1_m: 0.9322\n",
            "Epoch 5/10\n",
            "35296/35328 [============================>.] - ETA: 0s - loss: 0.1334 - acc: 0.9651 - f1_m: 0.9605\n",
            "Epoch 00005: val_loss improved from 0.17669 to 0.16964, saving model to /content/gdrive/My Drive/combined.hdf5\n",
            "35328/35328 [==============================] - 40s 1ms/sample - loss: 0.1334 - acc: 0.9650 - f1_m: 0.9604 - val_loss: 0.1696 - val_acc: 0.9394 - val_f1_m: 0.9329\n",
            "Epoch 6/10\n",
            "35296/35328 [============================>.] - ETA: 0s - loss: 0.1135 - acc: 0.9710 - f1_m: 0.9673\n",
            "Epoch 00006: val_loss improved from 0.16964 to 0.16590, saving model to /content/gdrive/My Drive/combined.hdf5\n",
            "35328/35328 [==============================] - 40s 1ms/sample - loss: 0.1135 - acc: 0.9710 - f1_m: 0.9673 - val_loss: 0.1659 - val_acc: 0.9401 - val_f1_m: 0.9325\n",
            "Epoch 7/10\n",
            "35296/35328 [============================>.] - ETA: 0s - loss: 0.0992 - acc: 0.9761 - f1_m: 0.9727\n",
            "Epoch 00007: val_loss improved from 0.16590 to 0.16388, saving model to /content/gdrive/My Drive/combined.hdf5\n",
            "35328/35328 [==============================] - 40s 1ms/sample - loss: 0.0992 - acc: 0.9761 - f1_m: 0.9727 - val_loss: 0.1639 - val_acc: 0.9415 - val_f1_m: 0.9357\n",
            "Epoch 8/10\n",
            "35296/35328 [============================>.] - ETA: 0s - loss: 0.0886 - acc: 0.9782 - f1_m: 0.9756\n",
            "Epoch 00008: val_loss did not improve from 0.16388\n",
            "35328/35328 [==============================] - 37s 1ms/sample - loss: 0.0885 - acc: 0.9782 - f1_m: 0.9756 - val_loss: 0.1649 - val_acc: 0.9433 - val_f1_m: 0.9369\n",
            "Epoch 9/10\n",
            "35296/35328 [============================>.] - ETA: 0s - loss: 0.0803 - acc: 0.9801 - f1_m: 0.9777\n",
            "Epoch 00009: val_loss improved from 0.16388 to 0.16319, saving model to /content/gdrive/My Drive/combined.hdf5\n",
            "35328/35328 [==============================] - 40s 1ms/sample - loss: 0.0803 - acc: 0.9801 - f1_m: 0.9777 - val_loss: 0.1632 - val_acc: 0.9433 - val_f1_m: 0.9366\n",
            "Epoch 10/10\n",
            "35296/35328 [============================>.] - ETA: 0s - loss: 0.0712 - acc: 0.9835 - f1_m: 0.9816\n",
            "Epoch 00010: val_loss did not improve from 0.16319\n",
            "35328/35328 [==============================] - 36s 1ms/sample - loss: 0.0712 - acc: 0.9835 - f1_m: 0.9816 - val_loss: 0.1642 - val_acc: 0.9451 - val_f1_m: 0.9384\n"
          ],
          "name": "stdout"
        }
      ]
    },
    {
      "cell_type": "code",
      "metadata": {
        "colab_type": "code",
        "id": "NOhc2jIGQbKT",
        "colab": {
          "base_uri": "https://localhost:8080/",
          "height": 545
        },
        "outputId": "22d1be21-082c-4b95-b418-13a74caaf3b8"
      },
      "source": [
        "loss = history.history['loss']\n",
        "val_loss = history.history['val_loss']\n",
        "acc = history.history['acc']\n",
        "val_acc = history.history['val_acc']\n",
        "epoch = history.epoch\n",
        "\n",
        "plt.plot(epoch,loss, label='loss')\n",
        "plt.plot(epoch, val_loss, label='val loss')\n",
        "plt.legend()\n",
        "plt.title('epochs vs loss')\n",
        "plt.show()\n",
        "\n",
        "plt.plot(epoch,acc, label='accuracy')\n",
        "plt.plot(epoch, val_acc, label='val accuracy')\n",
        "plt.legend()\n",
        "plt.title('epochs vs accuracy')\n",
        "plt.show()  "
      ],
      "execution_count": null,
      "outputs": [
        {
          "output_type": "display_data",
          "data": {
            "image/png": "[encoded data removed]",
            "text/plain": [
              "<Figure size 432x288 with 1 Axes>"
            ]
          },
          "metadata": {
            "tags": [],
            "needs_background": "light"
          }
        },
        {
          "output_type": "display_data",
          "data": {
            "image/png": "[encoded data removed]",
            "text/plain": [
              "<Figure size 432x288 with 1 Axes>"
            ]
          },
          "metadata": {
            "tags": [],
            "needs_background": "light"
          }
        }
      ]
    },
    {
      "cell_type": "markdown",
      "metadata": {
        "colab_type": "text",
        "id": "Qxz0Y0McQbKi"
      },
      "source": [
        "**Test Set Performance**"
      ]
    },
    {
      "cell_type": "code",
      "metadata": {
        "colab_type": "code",
        "id": "OM4EAQvvQbKi",
        "colab": {
          "base_uri": "https://localhost:8080/",
          "height": 34
        },
        "outputId": "42239d8c-2e0b-431d-9dcc-f2919e0380e2"
      },
      "source": [
        "model.load_weights('/content/gdrive/My Drive/combined.hdf5')\n",
        "results = model.evaluate(X_test,\n",
        "                         y_test,\n",
        "                         batch_size=batch_size\n",
        "                         )"
      ],
      "execution_count": null,
      "outputs": [
        {
          "output_type": "stream",
          "text": [
            "10000/10000 [==============================] - 1s 118us/sample - loss: 0.1765 - acc: 0.9404 - f1_m: 0.9317\n"
          ],
          "name": "stdout"
        }
      ]
    },
    {
      "cell_type": "code",
      "metadata": {
        "colab_type": "code",
        "id": "t_iUaSoxQbKm",
        "colab": {
          "base_uri": "https://localhost:8080/",
          "height": 67
        },
        "outputId": "d5c8b012-bdbd-43bf-908e-df945ad18544"
      },
      "source": [
        "print(\"Loss on test set:\", results[0])\n",
        "print(\"Accuracy on test set:\", results[1])\n",
        "print (\"F1 score on test set:\", results[2])"
      ],
      "execution_count": null,
      "outputs": [
        {
          "output_type": "stream",
          "text": [
            "Loss on test set: 0.17649455544054507\n",
            "Accuracy on test set: 0.9404\n",
            "F1 score on test set: 0.9316517\n"
          ],
          "name": "stdout"
        }
      ]
    },
    {
      "cell_type": "code",
      "metadata": {
        "colab_type": "code",
        "id": "qXDBr92n8IVJ",
        "colab": {}
      },
      "source": [
        "y_score = model.predict(X_test, batch_size=1024)\n",
        "y_preds = model.predict(X_test, batch_size=1024).round().astype(int)"
      ],
      "execution_count": null,
      "outputs": []
    },
    {
      "cell_type": "code",
      "metadata": {
        "colab_type": "code",
        "id": "clmfz2Ge8IVR",
        "colab": {
          "base_uri": "https://localhost:8080/",
          "height": 311
        },
        "outputId": "e0490595-3ed1-420f-b1d7-34518bc675a6"
      },
      "source": [
        "cm=sklearn.metrics.confusion_matrix(y_test, y_preds)\n",
        "plot_confusion_matrix(cm,classes=['Non sarcastic','sarcastic'],title='Confusion Matrix')"
      ],
      "execution_count": null,
      "outputs": [
        {
          "output_type": "display_data",
          "data": {
            "image/png": "[encoded data removed]",
            "text/plain": [
              "<Figure size 432x288 with 2 Axes>"
            ]
          },
          "metadata": {
            "tags": [],
            "needs_background": "light"
          }
        }
      ]
    },
    {
      "cell_type": "code",
      "metadata": {
        "colab_type": "code",
        "id": "iwjvIf0g8IVV",
        "colab": {
          "base_uri": "https://localhost:8080/",
          "height": 295
        },
        "outputId": "3950677e-ca4f-4897-91c3-6ddbbd97396d"
      },
      "source": [
        "fpr, tpr, t = sklearn.metrics.roc_curve(y_test, y_score)\n",
        "plot_roc(fpr, tpr,label='ROC curve ')"
      ],
      "execution_count": null,
      "outputs": [
        {
          "output_type": "display_data",
          "data": {
            "image/png": "[encoded data removed]",
            "text/plain": [
              "<Figure size 432x288 with 1 Axes>"
            ]
          },
          "metadata": {
            "tags": [],
            "needs_background": "light"
          }
        }
      ]
    },
    {
      "cell_type": "code",
      "metadata": {
        "colab_type": "code",
        "id": "z0l9-4MX8IVZ",
        "colab": {
          "base_uri": "https://localhost:8080/",
          "height": 101
        },
        "outputId": "0ccd3a03-184b-4956-8df6-a763aa651820"
      },
      "source": [
        "print(\"Test accuracy score\", sklearn.metrics.accuracy_score(y_test, y_preds))\n",
        "print('Precision= ',sklearn.metrics.precision_score(y_test, y_preds))\n",
        "print('Recall= ',sklearn.metrics.recall_score(y_test, y_preds))\n",
        "print('F1 score= ',sklearn.metrics.f1_score(y_test, y_preds))\n",
        "from sklearn.metrics import roc_auc_score\n",
        "print('auc= ',roc_auc_score(y_test,y_score))"
      ],
      "execution_count": null,
      "outputs": [
        {
          "output_type": "stream",
          "text": [
            "Test accuracy score 0.9404\n",
            "Precision=  0.9376401973979362\n",
            "Recall=  0.9293019119608715\n",
            "F1 score=  0.9334524341223761\n",
            "auc=  0.9802632099989026\n"
          ],
          "name": "stdout"
        }
      ]
    },
    {
      "cell_type": "markdown",
      "metadata": {
        "colab_type": "text",
        "id": "g7T8GeYHZkpO"
      },
      "source": [
        "####**Combined SVM**"
      ]
    },
    {
      "cell_type": "code",
      "metadata": {
        "colab_type": "code",
        "id": "2hZKEfspaKvK",
        "colab": {
          "base_uri": "https://localhost:8080/",
          "height": 84
        },
        "outputId": "aa2586d4-c1a5-474e-f328-aaa3a94569a9"
      },
      "source": [
        "m_temp = tf.keras.Model(inputs=model.input, outputs=model.get_layer('dropout1_C').output)\n",
        "t = m_temp.predict(X_train)\n",
        "arr = K.eval(t)\n",
        "\n",
        "clf = svm.SVC(kernel='rbf', C=25, gamma=.1,probability=True)\n",
        "\n",
        "train_sizes, train_scores, valid_scores = learning_curve(clf, arr, y_train.ravel())\n",
        "\n",
        "clf.fit(arr, y_train.ravel())"
      ],
      "execution_count": null,
      "outputs": [
        {
          "output_type": "execute_result",
          "data": {
            "text/plain": [
              "SVC(C=25, break_ties=False, cache_size=200, class_weight=None, coef0=0.0,\n",
              "    decision_function_shape='ovr', degree=3, gamma=0.1, kernel='rbf',\n",
              "    max_iter=-1, probability=True, random_state=None, shrinking=True, tol=0.001,\n",
              "    verbose=False)"
            ]
          },
          "metadata": {
            "tags": []
          },
          "execution_count": 85
        }
      ]
    },
    {
      "cell_type": "code",
      "metadata": {
        "colab_type": "code",
        "id": "Va2LH9iLcBQO",
        "colab": {
          "base_uri": "https://localhost:8080/",
          "height": 281
        },
        "outputId": "40085018-203f-450b-eada-8364675a0a46"
      },
      "source": [
        "train_scores_mean = np.mean(train_scores, axis=1)\n",
        "valid_scores_mean = np.mean(valid_scores, axis=1)\n",
        "\n",
        "plt.plot(train_sizes, train_scores_mean, label='train score')\n",
        "plt.plot(train_sizes, valid_scores_mean, label='valid score')\n",
        "plt.legend()\n",
        "plt.title(\"Training Size vs Score\")\n",
        "plt.show()"
      ],
      "execution_count": null,
      "outputs": [
        {
          "output_type": "display_data",
          "data": {
            "image/png": "[encoded data removed]",
            "text/plain": [
              "<Figure size 432x288 with 1 Axes>"
            ]
          },
          "metadata": {
            "tags": [],
            "needs_background": "light"
          }
        }
      ]
    },
    {
      "cell_type": "code",
      "metadata": {
        "colab_type": "code",
        "id": "Y_btth5maKvQ",
        "colab": {
          "base_uri": "https://localhost:8080/",
          "height": 67
        },
        "outputId": "3347a75c-0291-4ea0-a5ae-99a23e4e2f60"
      },
      "source": [
        "m_temp = tf.keras.Model(inputs=model.input, outputs=model.get_layer('flatten1_C').output)\n",
        "tt = m_temp.predict(X_test)\n",
        "tt = K.eval(tt)\n",
        "ans = clf.predict(tt)\n",
        "\n",
        "tt = m_temp.predict(X_train)\n",
        "tt = K.eval(tt)\n",
        "trn = clf.predict(tt)\n",
        "\n",
        "tt = m_temp.predict(X_val)\n",
        "tt = K.eval(tt)\n",
        "val = clf.predict(tt)\n",
        "print(\"Train Acc:\", accuracy_score(y_train.ravel(), trn))\n",
        "print(\"Val Acc:\", accuracy_score(y_val.ravel(), val))\n",
        "print(\"Test Acc:\", accuracy_score(y_test.ravel(), ans))"
      ],
      "execution_count": null,
      "outputs": [
        {
          "output_type": "stream",
          "text": [
            "Train Acc: 0.9976222826086957\n",
            "Val Acc: 0.949\n",
            "Test Acc: 0.9446\n"
          ],
          "name": "stdout"
        }
      ]
    },
    {
      "cell_type": "code",
      "metadata": {
        "colab_type": "code",
        "id": "pDoYqpWUbDQH",
        "colab": {}
      },
      "source": [
        "m_temp = tf.keras.Model(inputs=model.input, outputs=model.get_layer('flatten1_C').output)\n",
        "tt = m_temp.predict(X_test)\n",
        "tt = K.eval(tt)\n",
        "y_score = clf.predict_proba(tt)[:, 1]\n",
        "y_preds = clf.predict(tt).round().astype(int)"
      ],
      "execution_count": null,
      "outputs": []
    },
    {
      "cell_type": "code",
      "metadata": {
        "colab_type": "code",
        "id": "SZLNsrJl5BDm",
        "colab": {
          "base_uri": "https://localhost:8080/",
          "height": 311
        },
        "outputId": "25c830aa-69ca-4e38-ba5d-2a67f3215dc6"
      },
      "source": [
        "cm=sklearn.metrics.confusion_matrix(y_test, y_preds)\n",
        "plot_confusion_matrix(cm,classes=['Non sarcastic','sarcastic'],title='Confusion Matrix')"
      ],
      "execution_count": null,
      "outputs": [
        {
          "output_type": "display_data",
          "data": {
            "image/png": "[encoded data removed]",
            "text/plain": [
              "<Figure size 432x288 with 2 Axes>"
            ]
          },
          "metadata": {
            "tags": [],
            "needs_background": "light"
          }
        }
      ]
    },
    {
      "cell_type": "code",
      "metadata": {
        "colab_type": "code",
        "id": "RySB6NIe5BDv",
        "colab": {
          "base_uri": "https://localhost:8080/",
          "height": 295
        },
        "outputId": "7500a26e-5c0c-4c4b-92fd-605bb7dbdfbb"
      },
      "source": [
        "fpr, tpr, t = sklearn.metrics.roc_curve(y_test, y_score)\n",
        "plot_roc(fpr, tpr,label='ROC curve ')"
      ],
      "execution_count": null,
      "outputs": [
        {
          "output_type": "display_data",
          "data": {
            "image/png": "[encoded data removed]",
            "text/plain": [
              "<Figure size 432x288 with 1 Axes>"
            ]
          },
          "metadata": {
            "tags": [],
            "needs_background": "light"
          }
        }
      ]
    },
    {
      "cell_type": "code",
      "metadata": {
        "colab_type": "code",
        "id": "dhRyblBR5BDz",
        "colab": {
          "base_uri": "https://localhost:8080/",
          "height": 101
        },
        "outputId": "81b081c2-205d-4ff8-c062-e97f8ad54258"
      },
      "source": [
        "print(\"Test accuracy score\", sklearn.metrics.accuracy_score(y_test, y_preds))\n",
        "print('Precision= ',sklearn.metrics.precision_score(y_test, y_preds))\n",
        "print('Recall= ',sklearn.metrics.recall_score(y_test, y_preds))\n",
        "print('F1 score= ',sklearn.metrics.f1_score(y_test, y_preds))\n",
        "from sklearn.metrics import roc_auc_score\n",
        "print('auc= ',roc_auc_score(y_test,y_score))"
      ],
      "execution_count": null,
      "outputs": [
        {
          "output_type": "stream",
          "text": [
            "Test accuracy score 0.9446\n",
            "Precision=  0.9431460674157304\n",
            "Recall=  0.9330813694975545\n",
            "F1 score=  0.9380867232901208\n",
            "auc=  0.9568268073099737\n"
          ],
          "name": "stdout"
        }
      ]
    },
    {
      "cell_type": "code",
      "metadata": {
        "id": "sky9UT4q6ikz",
        "colab_type": "code",
        "colab": {}
      },
      "source": [
        ""
      ],
      "execution_count": null,
      "outputs": []
    }
  ]
}