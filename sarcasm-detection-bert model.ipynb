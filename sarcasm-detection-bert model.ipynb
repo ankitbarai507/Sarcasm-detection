{
 "cells": [
  {
   "cell_type": "code",
   "execution_count": 1,
   "metadata": {},
   "outputs": [],
   "source": [
    "import pandas as pd\n",
    "import numpy as np\n",
    "import tensorflow as tf\n",
    "import matplotlib.pyplot as plt\n",
    "from tensorflow.keras.preprocessing.text import Tokenizer\n",
    "from tensorflow.keras.preprocessing.sequence import pad_sequences\n",
    "from tensorflow.keras.callbacks import Callback\n",
    "from tensorflow.keras import backend as K\n",
    "from tensorflow.keras.callbacks import ModelCheckpoint\n",
    "import json\n",
    "import os \n",
    "import tensorflow as tf\n",
    "import sklearn\n",
    "import seaborn as sbs\n",
    "import sklearn.naive_bayes \n",
    "import sklearn.model_selection\n",
    "import sklearn.metrics"
   ]
  },
  {
   "cell_type": "code",
   "execution_count": 2,
   "metadata": {},
   "outputs": [
    {
     "data": {
      "text/plain": [
       "'2.1.0'"
      ]
     },
     "execution_count": 2,
     "metadata": {},
     "output_type": "execute_result"
    }
   ],
   "source": [
    "tf.__version__"
   ]
  },
  {
   "cell_type": "code",
   "execution_count": 3,
   "metadata": {},
   "outputs": [
    {
     "name": "stdout",
     "output_type": "stream",
     "text": [
      "/kaggle/input/fasttext-crawl-300d-2m/crawl-300d-2M.vec\n",
      "/kaggle/input/sentiment140/training.1600000.processed.noemoticon.csv\n",
      "/kaggle/input/news-headlines-dataset-for-sarcasm-detection/Sarcasm_Headlines_Dataset_v2.json\n",
      "/kaggle/input/news-headlines-dataset-for-sarcasm-detection/Sarcasm_Headlines_Dataset.json\n",
      "/kaggle/input/kernel61a3716833/__results__.html\n",
      "/kaggle/input/kernel61a3716833/__output__.json\n",
      "/kaggle/input/kernel61a3716833/custom.css\n",
      "/kaggle/input/kernel61a3716833/__notebook__.ipynb\n",
      "/kaggle/input/kernel61a3716833/tokenization.py\n",
      "/kaggle/input/kernel61a3716833/__results___files/__results___8_1.png\n",
      "/kaggle/input/kernel61a3716833/__results___files/__results___7_1.png\n",
      "/kaggle/input/kernel61a3716833/__pycache__/tokenization.cpython-37.pyc\n"
     ]
    }
   ],
   "source": [
    "import os\n",
    "for dirname, _, filenames in os.walk('/kaggle/input'):\n",
    "    for filename in filenames:\n",
    "        print(os.path.join(dirname, filename))\n",
    "        "
   ]
  },
  {
   "cell_type": "markdown",
   "execution_count": null,
   "metadata": {},
   "source": [
    "F1 score function"
   ]
  },
  {
   "cell_type": "code",
   "execution_count": 4,
   "metadata": {},
   "outputs": [],
   "source": [
    "def recall_m(y_true, y_pred):\n",
    "    true_positives = K.sum(K.round(K.clip(y_true * y_pred, 0, 1)))\n",
    "    possible_positives = K.sum(K.round(K.clip(y_true, 0, 1)))\n",
    "    recall = true_positives / (possible_positives + K.epsilon())\n",
    "    return recall\n",
    "\n",
    "def precision_m(y_true, y_pred):\n",
    "    true_positives = K.sum(K.round(K.clip(y_true * y_pred, 0, 1)))\n",
    "    predicted_positives = K.sum(K.round(K.clip(y_pred, 0, 1)))\n",
    "    precision = true_positives / (predicted_positives + K.epsilon())\n",
    "    return precision\n",
    "\n",
    "def f1_m(y_true, y_pred):\n",
    "    precision = precision_m(y_true, y_pred)\n",
    "    recall = recall_m(y_true, y_pred)\n",
    "    return 2 * ((precision * recall) / (precision + recall + K.epsilon()))"
   ]
  },
  {
   "cell_type": "code",
   "execution_count": 5,
   "metadata": {},
   "outputs": [
    {
     "data": {
      "text/html": [
       "<div>\n",
       "<style scoped>\n",
       "    .dataframe tbody tr th:only-of-type {\n",
       "        vertical-align: middle;\n",
       "    }\n",
       "\n",
       "    .dataframe tbody tr th {\n",
       "        vertical-align: top;\n",
       "    }\n",
       "\n",
       "    .dataframe thead th {\n",
       "        text-align: right;\n",
       "    }\n",
       "</style>\n",
       "<table border=\"1\" class=\"dataframe\">\n",
       "  <thead>\n",
       "    <tr style=\"text-align: right;\">\n",
       "      <th></th>\n",
       "      <th>headline</th>\n",
       "      <th>is_sarcastic</th>\n",
       "    </tr>\n",
       "  </thead>\n",
       "  <tbody>\n",
       "    <tr>\n",
       "      <th>0</th>\n",
       "      <td>former versace store clerk sues over secret 'b...</td>\n",
       "      <td>0</td>\n",
       "    </tr>\n",
       "    <tr>\n",
       "      <th>1</th>\n",
       "      <td>the 'roseanne' revival catches up to our thorn...</td>\n",
       "      <td>0</td>\n",
       "    </tr>\n",
       "    <tr>\n",
       "      <th>2</th>\n",
       "      <td>mom starting to fear son's web series closest ...</td>\n",
       "      <td>1</td>\n",
       "    </tr>\n",
       "    <tr>\n",
       "      <th>3</th>\n",
       "      <td>boehner just wants wife to listen, not come up...</td>\n",
       "      <td>1</td>\n",
       "    </tr>\n",
       "    <tr>\n",
       "      <th>4</th>\n",
       "      <td>j.k. rowling wishes snape happy birthday in th...</td>\n",
       "      <td>0</td>\n",
       "    </tr>\n",
       "  </tbody>\n",
       "</table>\n",
       "</div>"
      ],
      "text/plain": [
       "                                            headline  is_sarcastic\n",
       "0  former versace store clerk sues over secret 'b...             0\n",
       "1  the 'roseanne' revival catches up to our thorn...             0\n",
       "2  mom starting to fear son's web series closest ...             1\n",
       "3  boehner just wants wife to listen, not come up...             1\n",
       "4  j.k. rowling wishes snape happy birthday in th...             0"
      ]
     },
     "execution_count": 5,
     "metadata": {},
     "output_type": "execute_result"
    }
   ],
   "source": [
    "df1 = pd.read_json(\"/kaggle/input/news-headlines-dataset-for-sarcasm-detection/Sarcasm_Headlines_Dataset.json\", lines=True)\n",
    "df2 = pd.read_json(\"/kaggle/input/news-headlines-dataset-for-sarcasm-detection/Sarcasm_Headlines_Dataset_v2.json\", lines=True)\n",
    "df = pd.concat([df1[['headline', 'is_sarcastic']],df2[['headline', 'is_sarcastic']]], axis=0)\n",
    "df.head()"
   ]
  },
  {
   "cell_type": "code",
   "execution_count": 6,
   "metadata": {},
   "outputs": [
    {
     "name": "stdout",
     "output_type": "stream",
     "text": [
      "39\n",
      "151\n"
     ]
    }
   ],
   "source": [
    "temp1 = df1['headline'].apply(lambda x : len(x.split()))\n",
    "print(max(temp1))\n",
    "temp = df2['headline'].apply(lambda x : len(x.split()))\n",
    "print(max(temp))"
   ]
  },
  {
   "cell_type": "code",
   "execution_count": 7,
   "metadata": {},
   "outputs": [
    {
     "data": {
      "text/plain": [
       "(array([1.170e+02, 3.040e+02, 5.790e+02, 1.141e+03, 1.727e+03, 2.347e+03,\n",
       "        2.853e+03, 3.302e+03, 3.486e+03, 3.197e+03, 2.644e+03, 1.863e+03,\n",
       "        1.282e+03, 0.000e+00, 7.940e+02, 4.380e+02, 2.850e+02, 1.670e+02,\n",
       "        8.100e+01, 3.900e+01, 2.600e+01, 1.400e+01, 8.000e+00, 4.000e+00,\n",
       "        2.000e+00, 0.000e+00, 0.000e+00, 2.000e+00, 1.000e+00, 2.000e+00,\n",
       "        1.000e+00, 1.000e+00, 0.000e+00, 0.000e+00, 0.000e+00, 0.000e+00,\n",
       "        0.000e+00, 0.000e+00, 1.000e+00, 1.000e+00]),\n",
       " array([ 2.   ,  2.925,  3.85 ,  4.775,  5.7  ,  6.625,  7.55 ,  8.475,\n",
       "         9.4  , 10.325, 11.25 , 12.175, 13.1  , 14.025, 14.95 , 15.875,\n",
       "        16.8  , 17.725, 18.65 , 19.575, 20.5  , 21.425, 22.35 , 23.275,\n",
       "        24.2  , 25.125, 26.05 , 26.975, 27.9  , 28.825, 29.75 , 30.675,\n",
       "        31.6  , 32.525, 33.45 , 34.375, 35.3  , 36.225, 37.15 , 38.075,\n",
       "        39.   ]),\n",
       " <a list of 40 Patch objects>)"
      ]
     },
     "execution_count": 7,
     "metadata": {},
     "output_type": "execute_result"
    },
    {
     "data": {
      "image/png": "[encoded data removed]",
      "text/plain": [
       "<Figure size 432x288 with 1 Axes>"
      ]
     },
     "metadata": {
      "needs_background": "light"
     },
     "output_type": "display_data"
    }
   ],
   "source": [
    "plt.hist(temp1, bins=40)"
   ]
  },
  {
   "cell_type": "code",
   "execution_count": 8,
   "metadata": {},
   "outputs": [
    {
     "data": {
      "text/plain": [
       "(array([1.180e+02, 3.060e+02, 5.910e+02, 1.164e+03, 1.762e+03, 2.404e+03,\n",
       "        2.935e+03, 3.425e+03, 3.638e+03, 3.396e+03, 2.841e+03, 2.083e+03,\n",
       "        1.492e+03, 9.690e+02, 5.780e+02, 3.830e+02, 2.280e+02, 1.430e+02,\n",
       "        6.300e+01, 4.500e+01, 2.300e+01, 1.200e+01, 5.000e+00, 2.000e+00,\n",
       "        1.000e+00, 3.000e+00, 2.000e+00, 2.000e+00, 1.000e+00, 1.000e+00,\n",
       "        0.000e+00, 0.000e+00, 0.000e+00, 0.000e+00, 0.000e+00, 0.000e+00,\n",
       "        1.000e+00, 1.000e+00, 0.000e+00, 0.000e+00, 0.000e+00, 0.000e+00,\n",
       "        0.000e+00, 0.000e+00, 0.000e+00, 0.000e+00, 0.000e+00, 0.000e+00,\n",
       "        0.000e+00, 0.000e+00, 0.000e+00, 0.000e+00, 0.000e+00, 0.000e+00,\n",
       "        0.000e+00, 0.000e+00, 0.000e+00, 0.000e+00, 0.000e+00, 0.000e+00,\n",
       "        0.000e+00, 0.000e+00, 0.000e+00, 0.000e+00, 0.000e+00, 0.000e+00,\n",
       "        0.000e+00, 0.000e+00, 0.000e+00, 0.000e+00, 0.000e+00, 0.000e+00,\n",
       "        0.000e+00, 0.000e+00, 0.000e+00, 0.000e+00, 0.000e+00, 0.000e+00,\n",
       "        0.000e+00, 0.000e+00, 0.000e+00, 0.000e+00, 0.000e+00, 0.000e+00,\n",
       "        0.000e+00, 0.000e+00, 0.000e+00, 0.000e+00, 0.000e+00, 0.000e+00,\n",
       "        0.000e+00, 0.000e+00, 0.000e+00, 0.000e+00, 0.000e+00, 0.000e+00,\n",
       "        0.000e+00, 0.000e+00, 0.000e+00, 0.000e+00, 0.000e+00, 0.000e+00,\n",
       "        0.000e+00, 0.000e+00, 0.000e+00, 0.000e+00, 0.000e+00, 0.000e+00,\n",
       "        0.000e+00, 0.000e+00, 0.000e+00, 0.000e+00, 0.000e+00, 0.000e+00,\n",
       "        0.000e+00, 0.000e+00, 0.000e+00, 0.000e+00, 0.000e+00, 0.000e+00,\n",
       "        0.000e+00, 0.000e+00, 0.000e+00, 0.000e+00, 0.000e+00, 0.000e+00,\n",
       "        0.000e+00, 0.000e+00, 0.000e+00, 0.000e+00, 0.000e+00, 0.000e+00,\n",
       "        0.000e+00, 0.000e+00, 0.000e+00, 0.000e+00, 0.000e+00, 0.000e+00,\n",
       "        0.000e+00, 0.000e+00, 0.000e+00, 0.000e+00, 0.000e+00, 0.000e+00,\n",
       "        0.000e+00, 0.000e+00, 0.000e+00, 0.000e+00, 0.000e+00, 1.000e+00]),\n",
       " array([  2.        ,   2.99333333,   3.98666667,   4.98      ,\n",
       "          5.97333333,   6.96666667,   7.96      ,   8.95333333,\n",
       "          9.94666667,  10.94      ,  11.93333333,  12.92666667,\n",
       "         13.92      ,  14.91333333,  15.90666667,  16.9       ,\n",
       "         17.89333333,  18.88666667,  19.88      ,  20.87333333,\n",
       "         21.86666667,  22.86      ,  23.85333333,  24.84666667,\n",
       "         25.84      ,  26.83333333,  27.82666667,  28.82      ,\n",
       "         29.81333333,  30.80666667,  31.8       ,  32.79333333,\n",
       "         33.78666667,  34.78      ,  35.77333333,  36.76666667,\n",
       "         37.76      ,  38.75333333,  39.74666667,  40.74      ,\n",
       "         41.73333333,  42.72666667,  43.72      ,  44.71333333,\n",
       "         45.70666667,  46.7       ,  47.69333333,  48.68666667,\n",
       "         49.68      ,  50.67333333,  51.66666667,  52.66      ,\n",
       "         53.65333333,  54.64666667,  55.64      ,  56.63333333,\n",
       "         57.62666667,  58.62      ,  59.61333333,  60.60666667,\n",
       "         61.6       ,  62.59333333,  63.58666667,  64.58      ,\n",
       "         65.57333333,  66.56666667,  67.56      ,  68.55333333,\n",
       "         69.54666667,  70.54      ,  71.53333333,  72.52666667,\n",
       "         73.52      ,  74.51333333,  75.50666667,  76.5       ,\n",
       "         77.49333333,  78.48666667,  79.48      ,  80.47333333,\n",
       "         81.46666667,  82.46      ,  83.45333333,  84.44666667,\n",
       "         85.44      ,  86.43333333,  87.42666667,  88.42      ,\n",
       "         89.41333333,  90.40666667,  91.4       ,  92.39333333,\n",
       "         93.38666667,  94.38      ,  95.37333333,  96.36666667,\n",
       "         97.36      ,  98.35333333,  99.34666667, 100.34      ,\n",
       "        101.33333333, 102.32666667, 103.32      , 104.31333333,\n",
       "        105.30666667, 106.3       , 107.29333333, 108.28666667,\n",
       "        109.28      , 110.27333333, 111.26666667, 112.26      ,\n",
       "        113.25333333, 114.24666667, 115.24      , 116.23333333,\n",
       "        117.22666667, 118.22      , 119.21333333, 120.20666667,\n",
       "        121.2       , 122.19333333, 123.18666667, 124.18      ,\n",
       "        125.17333333, 126.16666667, 127.16      , 128.15333333,\n",
       "        129.14666667, 130.14      , 131.13333333, 132.12666667,\n",
       "        133.12      , 134.11333333, 135.10666667, 136.1       ,\n",
       "        137.09333333, 138.08666667, 139.08      , 140.07333333,\n",
       "        141.06666667, 142.06      , 143.05333333, 144.04666667,\n",
       "        145.04      , 146.03333333, 147.02666667, 148.02      ,\n",
       "        149.01333333, 150.00666667, 151.        ]),\n",
       " <a list of 150 Patch objects>)"
      ]
     },
     "execution_count": 8,
     "metadata": {},
     "output_type": "execute_result"
    },
    {
     "data": {
      "image/png": "[encoded data removed]",
      "text/plain": [
       "<Figure size 432x288 with 1 Axes>"
      ]
     },
     "metadata": {
      "needs_background": "light"
     },
     "output_type": "display_data"
    }
   ],
   "source": [
    "plt.hist(temp, bins=150)"
   ]
  },
  {
   "cell_type": "code",
   "execution_count": 9,
   "metadata": {},
   "outputs": [
    {
     "name": "stdout",
     "output_type": "stream",
     "text": [
      "0    29970\n",
      "1    25358\n",
      "Name: is_sarcastic, dtype: int64\n"
     ]
    }
   ],
   "source": [
    "print (df['is_sarcastic'].value_counts())"
   ]
  },
  {
   "cell_type": "code",
   "execution_count": 10,
   "metadata": {},
   "outputs": [
    {
     "name": "stdout",
     "output_type": "stream",
     "text": [
      "Vocabulary size 30884\n"
     ]
    },
    {
     "data": {
      "text/plain": [
       "<matplotlib.axes._subplots.AxesSubplot at 0x7fa5e9c61310>"
      ]
     },
     "execution_count": 10,
     "metadata": {},
     "output_type": "execute_result"
    },
    {
     "data": {
      "image/png": "[encoded data removed]",
      "text/plain": [
       "<Figure size 432x288 with 1 Axes>"
      ]
     },
     "metadata": {
      "needs_background": "light"
     },
     "output_type": "display_data"
    }
   ],
   "source": [
    "vocab_size = 30000  # There are 30884 words in total\n",
    "tokenizer = tf.keras.preprocessing.text.Tokenizer(num_words=vocab_size)\n",
    "tokenizer.fit_on_texts(df.headline)\n",
    "print(\"Vocabulary size\", len(tokenizer.word_index))\n",
    "\n",
    "train_inputs = tokenizer.texts_to_sequences(df.headline)\n",
    "sbs.distplot([len(l) for l in train_inputs])"
   ]
  },
  {
   "cell_type": "code",
   "execution_count": 11,
   "metadata": {},
   "outputs": [
    {
     "data": {
      "text/plain": [
       "array([  314, 15932,   642,  3417,  2441,    45,   386,  2721, 15933,\n",
       "           5,  2722,  8922,     0,     0,     0,     0,     0,     0,\n",
       "           0,     0], dtype=int32)"
      ]
     },
     "execution_count": 11,
     "metadata": {},
     "output_type": "execute_result"
    }
   ],
   "source": [
    "train_inputs = tf.keras.preprocessing.sequence.pad_sequences(train_inputs, padding='post', maxlen=20)\n",
    "train_labels = df['is_sarcastic']\n",
    "\n",
    "# Split data into train /validation \n",
    "X_train, X_val, y_train, y_val = sklearn.model_selection.train_test_split(train_inputs, train_labels, \n",
    "                                                                          test_size=0.2, random_state=0)\n",
    "train_inputs[0]"
   ]
  },
  {
   "cell_type": "code",
   "execution_count": 12,
   "metadata": {},
   "outputs": [
    {
     "name": "stdout",
     "output_type": "stream",
     "text": [
      "Model: \"model\"\n",
      "_________________________________________________________________\n",
      "Layer (type)                 Output Shape              Param #   \n",
      "=================================================================\n",
      "input_1 (InputLayer)         [(None, 20)]              0         \n",
      "_________________________________________________________________\n",
      "embedding (Embedding)        (None, 20, 128)           3840000   \n",
      "_________________________________________________________________\n",
      "bidirectional (Bidirectional (None, 20, 128)           98816     \n",
      "_________________________________________________________________\n",
      "global_max_pooling1d (Global (None, 128)               0         \n",
      "_________________________________________________________________\n",
      "dense (Dense)                (None, 64)                8256      \n",
      "_________________________________________________________________\n",
      "dropout (Dropout)            (None, 64)                0         \n",
      "_________________________________________________________________\n",
      "dense_1 (Dense)              (None, 32)                2080      \n",
      "_________________________________________________________________\n",
      "dropout_1 (Dropout)          (None, 32)                0         \n",
      "_________________________________________________________________\n",
      "dense_2 (Dense)              (None, 1)                 33        \n",
      "=================================================================\n",
      "Total params: 3,949,185\n",
      "Trainable params: 3,949,185\n",
      "Non-trainable params: 0\n",
      "_________________________________________________________________\n"
     ]
    }
   ],
   "source": [
    "max_len = 20\n",
    "text_input = tf.keras.Input(shape=(max_len, ))\n",
    "embed_text = tf.keras.layers.Embedding(vocab_size, 128)(text_input)\n",
    "\n",
    "net = tf.keras.layers.Bidirectional(tf.keras.layers.LSTM(64, return_sequences=True))(embed_text)\n",
    "net = tf.keras.layers.GlobalMaxPool1D()(net)\n",
    "net = tf.keras.layers.Dense(64, activation='relu')(net)\n",
    "net = tf.keras.layers.Dropout(0.4)(net)\n",
    "net = tf.keras.layers.Dense(32, activation='relu')(net)\n",
    "net = tf.keras.layers.Dropout(0.4)(net)\n",
    "\n",
    "output = tf.keras.layers.Dense(1, activation='sigmoid')(net)\n",
    "model = tf.keras.models.Model(text_input, output)\n",
    "model.summary()"
   ]
  },
  {
   "cell_type": "code",
   "execution_count": 13,
   "metadata": {},
   "outputs": [
    {
     "name": "stdout",
     "output_type": "stream",
     "text": [
      "Train on 39835 samples, validate on 4427 samples\n",
      "Epoch 1/30\n",
      "39680/39835 [============================>.] - ETA: 0s - loss: 0.4139 - accuracy: 0.7976\n",
      "Epoch 00001: val_accuracy improved from -inf to 0.91461, saving model to model_best.hdf5\n",
      "39835/39835 [==============================] - 13s 317us/sample - loss: 0.4131 - accuracy: 0.7980 - val_loss: 0.2099 - val_accuracy: 0.9146\n",
      "Epoch 2/30\n",
      "39680/39835 [============================>.] - ETA: 0s - loss: 0.1360 - accuracy: 0.9533\n",
      "Epoch 00002: val_accuracy improved from 0.91461 to 0.93788, saving model to model_best.hdf5\n",
      "39835/39835 [==============================] - 8s 202us/sample - loss: 0.1359 - accuracy: 0.9534 - val_loss: 0.1835 - val_accuracy: 0.9379\n",
      "Epoch 3/30\n",
      "39680/39835 [============================>.] - ETA: 0s - loss: 0.0607 - accuracy: 0.9815\n",
      "Epoch 00003: val_accuracy improved from 0.93788 to 0.94127, saving model to model_best.hdf5\n",
      "39835/39835 [==============================] - 8s 189us/sample - loss: 0.0606 - accuracy: 0.9815 - val_loss: 0.1998 - val_accuracy: 0.9413\n",
      "Epoch 4/30\n",
      "39680/39835 [============================>.] - ETA: 0s - loss: 0.0308 - accuracy: 0.9911\n",
      "Epoch 00004: val_accuracy improved from 0.94127 to 0.94150, saving model to model_best.hdf5\n",
      "39835/39835 [==============================] - 7s 182us/sample - loss: 0.0308 - accuracy: 0.9910 - val_loss: 0.2768 - val_accuracy: 0.9415\n",
      "Epoch 5/30\n",
      "39680/39835 [============================>.] - ETA: 0s - loss: 0.0189 - accuracy: 0.9943\n",
      "Epoch 00005: val_accuracy improved from 0.94150 to 0.94466, saving model to model_best.hdf5\n",
      "39835/39835 [==============================] - 7s 179us/sample - loss: 0.0193 - accuracy: 0.9942 - val_loss: 0.3117 - val_accuracy: 0.9447\n",
      "Epoch 6/30\n",
      "39680/39835 [============================>.] - ETA: 0s - loss: 0.0118 - accuracy: 0.9969\n",
      "Epoch 00006: val_accuracy improved from 0.94466 to 0.94963, saving model to model_best.hdf5\n",
      "39835/39835 [==============================] - 7s 187us/sample - loss: 0.0119 - accuracy: 0.9969 - val_loss: 0.3602 - val_accuracy: 0.9496\n",
      "Epoch 7/30\n",
      "39680/39835 [============================>.] - ETA: 0s - loss: 0.0101 - accuracy: 0.9969\n",
      "Epoch 00007: val_accuracy did not improve from 0.94963\n",
      "39835/39835 [==============================] - 7s 172us/sample - loss: 0.0102 - accuracy: 0.9969 - val_loss: 0.3538 - val_accuracy: 0.9469\n",
      "Epoch 8/30\n",
      "39424/39835 [============================>.] - ETA: 0s - loss: 0.0078 - accuracy: 0.9981\n",
      "Epoch 00008: val_accuracy did not improve from 0.94963\n",
      "39835/39835 [==============================] - 7s 173us/sample - loss: 0.0078 - accuracy: 0.9980 - val_loss: 0.3656 - val_accuracy: 0.9485\n",
      "Epoch 9/30\n",
      "39424/39835 [============================>.] - ETA: 0s - loss: 0.0065 - accuracy: 0.9983\n",
      "Epoch 00009: val_accuracy did not improve from 0.94963\n",
      "39835/39835 [==============================] - 7s 188us/sample - loss: 0.0064 - accuracy: 0.9983 - val_loss: 0.4001 - val_accuracy: 0.9471\n",
      "Epoch 10/30\n",
      "39680/39835 [============================>.] - ETA: 0s - loss: 0.0066 - accuracy: 0.9983\n",
      "Epoch 00010: val_accuracy did not improve from 0.94963\n",
      "39835/39835 [==============================] - 7s 179us/sample - loss: 0.0066 - accuracy: 0.9983 - val_loss: 0.3766 - val_accuracy: 0.9485\n",
      "Epoch 11/30\n",
      "39680/39835 [============================>.] - ETA: 0s - loss: 0.0063 - accuracy: 0.9981\n",
      "Epoch 00011: val_accuracy did not improve from 0.94963\n",
      "39835/39835 [==============================] - 7s 180us/sample - loss: 0.0064 - accuracy: 0.9980 - val_loss: 0.3968 - val_accuracy: 0.9456\n"
     ]
    }
   ],
   "source": [
    "model.compile(loss='binary_crossentropy', optimizer='adam', metrics=['accuracy'])\n",
    "\n",
    "mc = tf.keras.callbacks.ModelCheckpoint('model_best.hdf5', monitor='val_accuracy', \n",
    "                                        verbose=1, save_best_only=True, mode='max')\n",
    "es = tf.keras.callbacks.EarlyStopping(monitor=\"val_accuracy\", mode=\"max\", patience=5)\n",
    "    \n",
    "history = model.fit(X_train, y_train,\n",
    "                    epochs=30, batch_size=256, callbacks=[mc, es], \n",
    "                    validation_split=0.1, verbose=1)"
   ]
  },
  {
   "cell_type": "code",
   "execution_count": 14,
   "metadata": {},
   "outputs": [
    {
     "name": "stdout",
     "output_type": "stream",
     "text": [
      "Test accuracy score 0.9521055485270197\n"
     ]
    }
   ],
   "source": [
    "import sklearn\n",
    "import sklearn.metrics\n",
    "# model = tf.keras.models.load_model('model_best.hdf5')\n",
    "y_preds = model.predict(X_val, batch_size=1024).round().astype(int)\n",
    "print(\"Test accuracy score\", sklearn.metrics.accuracy_score(y_val, y_preds))"
   ]
  },
  {
   "cell_type": "markdown",
   "execution_count": null,
   "metadata": {},
   "source": [
    "# Sarcasm detection with Bert"
   ]
  },
  {
   "cell_type": "code",
   "execution_count": 15,
   "metadata": {},
   "outputs": [],
   "source": [
    "!wget --quiet https://raw.githubusercontent.com/tensorflow/models/master/official/nlp/bert/tokenization.py"
   ]
  },
  {
   "cell_type": "code",
   "execution_count": 16,
   "metadata": {},
   "outputs": [],
   "source": [
    "import tensorflow_hub as hub \n",
    "import tokenization\n",
    "\n",
    "module_url = 'https://tfhub.dev/tensorflow/bert_en_uncased_L-12_H-768_A-12/2'\n",
    "bert_layer = hub.KerasLayer(module_url, trainable=True)"
   ]
  },
  {
   "cell_type": "code",
   "execution_count": 17,
   "metadata": {},
   "outputs": [],
   "source": [
    "vocab_file = bert_layer.resolved_object.vocab_file.asset_path.numpy()\n",
    "do_lower_case = bert_layer.resolved_object.do_lower_case.numpy()\n",
    "tokenizer = tokenization.FullTokenizer(vocab_file, do_lower_case)"
   ]
  },
  {
   "cell_type": "code",
   "execution_count": 18,
   "metadata": {},
   "outputs": [],
   "source": [
    "def bert_encode(texts, tokenizer, max_len=512):\n",
    "    all_tokens = []\n",
    "    all_masks = []\n",
    "    all_segments = []\n",
    "    \n",
    "    for text in texts:\n",
    "        text = tokenizer.tokenize(text)\n",
    "            \n",
    "        text = text[:max_len-2]\n",
    "        input_sequence = [\"[CLS]\"] + text + [\"[SEP]\"]\n",
    "        pad_len = max_len - len(input_sequence)\n",
    "        \n",
    "        tokens = tokenizer.convert_tokens_to_ids(input_sequence) + [0] * pad_len\n",
    "        pad_masks = [1] * len(input_sequence) + [0] * pad_len\n",
    "        segment_ids = [0] * max_len\n",
    "        \n",
    "        all_tokens.append(tokens)\n",
    "        all_masks.append(pad_masks)\n",
    "        all_segments.append(segment_ids)\n",
    "    \n",
    "    return np.array(all_tokens), np.array(all_masks), np.array(all_segments)\n",
    "\n",
    "def build_model(bert_layer, max_len=512):\n",
    "    input_word_ids = tf.keras.Input(shape=(max_len,), dtype=tf.int32, name=\"input_word_ids\")\n",
    "    input_mask = tf.keras.Input(shape=(max_len,), dtype=tf.int32, name=\"input_mask\")\n",
    "    segment_ids = tf.keras.Input(shape=(max_len,), dtype=tf.int32, name=\"segment_ids\")\n",
    "\n",
    "    pooled_output, sequence_output = bert_layer([input_word_ids, input_mask, segment_ids])\n",
    "    clf_output = sequence_output[:, 0, :]\n",
    "    net = tf.keras.layers.Dense(64, activation='relu')(clf_output)\n",
    "    net = tf.keras.layers.Dropout(0.2)(net)\n",
    "    net = tf.keras.layers.Dense(32, activation='relu')(net)\n",
    "    net = tf.keras.layers.Dropout(0.2)(net)\n",
    "    out = tf.keras.layers.Dense(1, activation='sigmoid')(net)\n",
    "    \n",
    "    model = tf.keras.models.Model(inputs=[input_word_ids, input_mask, segment_ids], outputs=out)\n",
    "    model.compile(tf.keras.optimizers.Adam(lr=1e-5), loss='binary_crossentropy', metrics=['accuracy'])\n",
    "    \n",
    "    return model"
   ]
  },
  {
   "cell_type": "code",
   "execution_count": 19,
   "metadata": {},
   "outputs": [
    {
     "name": "stdout",
     "output_type": "stream",
     "text": [
      "Model: \"model_1\"\n",
      "__________________________________________________________________________________________________\n",
      "Layer (type)                    Output Shape         Param #     Connected to                     \n",
      "==================================================================================================\n",
      "input_word_ids (InputLayer)     [(None, 100)]        0                                            \n",
      "__________________________________________________________________________________________________\n",
      "input_mask (InputLayer)         [(None, 100)]        0                                            \n",
      "__________________________________________________________________________________________________\n",
      "segment_ids (InputLayer)        [(None, 100)]        0                                            \n",
      "__________________________________________________________________________________________________\n",
      "keras_layer (KerasLayer)        [(None, 768), (None, 109482241   input_word_ids[0][0]             \n",
      "                                                                 input_mask[0][0]                 \n",
      "                                                                 segment_ids[0][0]                \n",
      "__________________________________________________________________________________________________\n",
      "tf_op_layer_strided_slice (Tens [(None, 768)]        0           keras_layer[0][1]                \n",
      "__________________________________________________________________________________________________\n",
      "dense_3 (Dense)                 (None, 64)           49216       tf_op_layer_strided_slice[0][0]  \n",
      "__________________________________________________________________________________________________\n",
      "dropout_2 (Dropout)             (None, 64)           0           dense_3[0][0]                    \n",
      "__________________________________________________________________________________________________\n",
      "dense_4 (Dense)                 (None, 32)           2080        dropout_2[0][0]                  \n",
      "__________________________________________________________________________________________________\n",
      "dropout_3 (Dropout)             (None, 32)           0           dense_4[0][0]                    \n",
      "__________________________________________________________________________________________________\n",
      "dense_5 (Dense)                 (None, 1)            33          dropout_3[0][0]                  \n",
      "==================================================================================================\n",
      "Total params: 109,533,570\n",
      "Trainable params: 109,533,569\n",
      "Non-trainable params: 1\n",
      "__________________________________________________________________________________________________\n"
     ]
    }
   ],
   "source": [
    "max_len = 100\n",
    "X_train, X_val, y_train, y_val = sklearn.model_selection.train_test_split(df.headline, df['is_sarcastic'], \n",
    "                                                                          test_size=0.1, random_state=0)\n",
    "X_train = bert_encode(X_train, tokenizer, max_len=max_len)\n",
    "X_val = bert_encode(X_val, tokenizer, max_len=max_len)\n",
    "model = build_model(bert_layer, max_len=max_len)\n",
    "model.summary()"
   ]
  },
  {
   "cell_type": "code",
   "execution_count": 20,
   "metadata": {},
   "outputs": [
    {
     "name": "stdout",
     "output_type": "stream",
     "text": [
      "Train on 44815 samples, validate on 4980 samples\n",
      "Epoch 1/30\n",
      "44800/44815 [============================>.] - ETA: 0s - loss: 0.2303 - accuracy: 0.9078\n",
      "Epoch 00001: val_accuracy improved from -inf to 0.95803, saving model to model.h5\n",
      "44815/44815 [==============================] - 605s 13ms/sample - loss: 0.2304 - accuracy: 0.9078 - val_loss: 0.1111 - val_accuracy: 0.9580\n",
      "Epoch 2/30\n",
      "44800/44815 [============================>.] - ETA: 0s - loss: 0.0789 - accuracy: 0.9742\n",
      "Epoch 00002: val_accuracy improved from 0.95803 to 0.96948, saving model to model.h5\n",
      "44815/44815 [==============================] - 592s 13ms/sample - loss: 0.0789 - accuracy: 0.9742 - val_loss: 0.0904 - val_accuracy: 0.9695\n",
      "Epoch 3/30\n",
      "44800/44815 [============================>.] - ETA: 0s - loss: 0.0175 - accuracy: 0.9944\n",
      "Epoch 00004: val_accuracy did not improve from 0.97851\n",
      "44815/44815 [==============================] - 589s 13ms/sample - loss: 0.0175 - accuracy: 0.9944 - val_loss: 0.1099 - val_accuracy: 0.9753\n",
      "Epoch 5/30\n",
      "44800/44815 [============================>.] - ETA: 0s - loss: 0.0115 - accuracy: 0.9962\n",
      "Epoch 00005: val_accuracy did not improve from 0.97851\n",
      "44815/44815 [==============================] - 588s 13ms/sample - loss: 0.0115 - accuracy: 0.9963 - val_loss: 0.1201 - val_accuracy: 0.9785\n",
      "Epoch 6/30\n",
      "44800/44815 [============================>.] - ETA: 0s - loss: 0.0107 - accuracy: 0.9963\n",
      "Epoch 00006: val_accuracy improved from 0.97851 to 0.98414, saving model to model.h5\n",
      "44815/44815 [==============================] - 590s 13ms/sample - loss: 0.0107 - accuracy: 0.9963 - val_loss: 0.0765 - val_accuracy: 0.9841\n",
      "Epoch 7/30\n",
      "44800/44815 [============================>.] - ETA: 0s - loss: 0.0076 - accuracy: 0.9977\n",
      "Epoch 00007: val_accuracy did not improve from 0.98414\n",
      "44815/44815 [==============================] - 586s 13ms/sample - loss: 0.0076 - accuracy: 0.9977 - val_loss: 0.1023 - val_accuracy: 0.9837\n",
      "Epoch 8/30\n",
      "44800/44815 [============================>.] - ETA: 0s - loss: 0.0044 - accuracy: 0.9987\n",
      "Epoch 00011: val_accuracy did not improve from 0.98514\n",
      "44815/44815 [==============================] - 589s 13ms/sample - loss: 0.0044 - accuracy: 0.9987 - val_loss: 0.1302 - val_accuracy: 0.9789\n",
      "Epoch 12/30\n",
      "44800/44815 [============================>.] - ETA: 0s - loss: 0.0036 - accuracy: 0.9991\n",
      "Epoch 00013: val_accuracy did not improve from 0.98514\n",
      "44815/44815 [==============================] - 589s 13ms/sample - loss: 0.0036 - accuracy: 0.9991 - val_loss: 0.1380 - val_accuracy: 0.9841\n",
      "Epoch 14/30\n",
      "24608/44815 [===============>..............] - ETA: 4:16 - loss: 0.0047 - accuracy: 0.9987"
     ]
    }
   ],
   "source": [
    "%%time\n",
    "checkpoint = tf.keras.callbacks.ModelCheckpoint('model.h5', monitor='val_accuracy', save_best_only=True, verbose=1)\n",
    "earlystopping = tf.keras.callbacks.EarlyStopping(monitor='val_accuracy', patience=5, verbose=1)\n",
    "\n",
    "train_history = model.fit(\n",
    "    X_train, y_train, \n",
    "    validation_split=0.1,\n",
    "    epochs=30,\n",
    "    callbacks=[checkpoint, earlystopping],\n",
    "    batch_size=16,\n",
    "    verbose=1\n",
    ")"
   ]
  },
  {
   "cell_type": "code",
   "execution_count": 21,
   "metadata": {},
   "outputs": [
    {
     "name": "stdout",
     "output_type": "stream",
     "text": [
      "Validation accuracy:  0.9830110247605277\n",
      "CPU times: user 14.3 s, sys: 7.32 s, total: 21.6 s\n",
      "Wall time: 21.8 s\n"
     ]
    }
   ],
   "source": [
    "%%time\n",
    "# model.load_weights('model.h5')\n",
    "y_preds = model.predict(X_val).round().astype(int)\n",
    "print(\"Validation accuracy: \", sklearn.metrics.accuracy_score(y_val, y_preds))"
   ]
  },
  {
   "cell_type": "code",
   "execution_count": null,
   "metadata": {},
   "outputs": [],
   "source": []
  }
 ],
 "metadata": {
  "kernelspec": {
   "display_name": "Python 3",
   "language": "python",
   "name": "python3"
  },
  "language_info": {
   "codemirror_mode": {
    "name": "ipython",
    "version": 3
   },
   "file_extension": ".py",
   "mimetype": "text/x-python",
   "name": "python",
   "nbconvert_exporter": "python",
   "pygments_lexer": "ipython3",
   "version": "3.7.6"
  }
 },
 "nbformat": 4,
 "nbformat_minor": 4
}
